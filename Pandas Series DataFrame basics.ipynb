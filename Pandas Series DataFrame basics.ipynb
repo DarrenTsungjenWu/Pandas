{
 "cells": [
  {
   "cell_type": "code",
   "execution_count": 1,
   "metadata": {},
   "outputs": [],
   "source": [
    "import pandas as pd"
   ]
  },
  {
   "cell_type": "code",
   "execution_count": 5,
   "metadata": {},
   "outputs": [
    {
     "name": "stdout",
     "output_type": "stream",
     "text": [
      "['Analysts had forecast that “Cyberpunk” would sell anywhere from 18 million to 25 million copies in its first month.', 'Cyberpunk is the biggest and most expensive project yet for the more than two-decade-old videogame company.', 'It is unusual for game publishers to suggest players seek refunds for their big-budget releases.Several other prominent developers postponed games this year, citing work-from-home challenges caused by the health crisis as a key factor.', 'The company has only one other major franchise, The Witcher, and its last major release is now five years old.']\n"
     ]
    }
   ],
   "source": [
    "#Create a list\n",
    "row_doc = [\"Analysts had forecast that “Cyberpunk” would sell anywhere from 18 million to 25 million copies in its first month.\",\n",
    "           \"Cyberpunk is the biggest and most expensive project yet for the more than two-decade-old videogame company.\",\n",
    "           \"It is unusual for game publishers to suggest players seek refunds for their big-budget releases.\"\n",
    "           \"Several other prominent developers postponed games this year, citing work-from-home challenges caused by the health crisis as a key factor.\",\n",
    "           \"The company has only one other major franchise, The Witcher, and its last major release is now five years old.\"\n",
    "]\n",
    "print(row_doc)\n",
    "\n",
    "#While in str-like objects in lsi data processing, it would be more convenient to use pd.Series data \n",
    "#to call relevenat processing function as shwon in follwoing codes"
   ]
  },
  {
   "cell_type": "markdown",
   "metadata": {},
   "source": [
    "pandas.Series"
   ]
  },
  {
   "cell_type": "code",
   "execution_count": 16,
   "metadata": {},
   "outputs": [
    {
     "name": "stdout",
     "output_type": "stream",
     "text": [
      "0    Analysts had forecast that “Cyberpunk” would s...\n",
      "1    Cyberpunk is the biggest and most expensive pr...\n",
      "2    It is unusual for game publishers to suggest p...\n",
      "3    The company has only one other major franchise...\n",
      "dtype: object\n"
     ]
    }
   ],
   "source": [
    "#From list to series\n",
    "row_doc_ser = pd.Series(row_doc)\n",
    "print(row_doc_ser)\n"
   ]
  },
  {
   "cell_type": "code",
   "execution_count": 17,
   "metadata": {},
   "outputs": [
    {
     "name": "stdout",
     "output_type": "stream",
     "text": [
      "Assign the first element in the series:  Analysts had forecast that “Cyberpunk” would sell anywhere from 18 million to 25 million copies in its first month.\n"
     ]
    }
   ],
   "source": [
    "print('Assign the first element in the series: ', row_doc_ser[0])"
   ]
  },
  {
   "cell_type": "code",
   "execution_count": 13,
   "metadata": {},
   "outputs": [
    {
     "name": "stdout",
     "output_type": "stream",
     "text": [
      "Analysts had forecast that “Cyberpunk” would sell anywhere from 18 million to 25 million copies in its first month.\n",
      "Cyberpunk is the biggest and most expensive project yet for the more than two-decade-old videogame company.\n",
      "It is unusual for game publishers to suggest players seek refunds for their big-budget releases.Several other prominent developers postponed games this year, citing work-from-home challenges caused by the health crisis as a key factor.\n",
      "The company has only one other major franchise, The Witcher, and its last major release is now five years old.\n"
     ]
    }
   ],
   "source": [
    "#Call to read through all the element in the series\n",
    "for element in row_doc_ser:\n",
    "    print(element)"
   ]
  },
  {
   "cell_type": "markdown",
   "metadata": {},
   "source": [
    "pandas.DataFrame"
   ]
  },
  {
   "cell_type": "code",
   "execution_count": 15,
   "metadata": {},
   "outputs": [
    {
     "name": "stdout",
     "output_type": "stream",
     "text": [
      "Assign the first element in the series:  Analysts had forecast that “Cyberpunk” would sell anywhere from 18 million to 25 million copies in its first month.\n"
     ]
    }
   ],
   "source": [
    "#Transform list into dataframe\n",
    "row_doc_df = pd.DataFrame(row_doc)\n",
    "print('Assign the first element in the series: ', row_doc_df.iloc[0, 0])"
   ]
  },
  {
   "cell_type": "code",
   "execution_count": 11,
   "metadata": {},
   "outputs": [
    {
     "name": "stdout",
     "output_type": "stream",
     "text": [
      "Cyberpunk is the biggest and most expensive project yet for the more than two-decade-old videogame company.\n",
      "<class 'str'>\n"
     ]
    }
   ],
   "source": [
    "print(row_doc_df[0][1])\n",
    "print(type(row_doc_df[0][1]))"
   ]
  },
  {
   "cell_type": "code",
   "execution_count": 12,
   "metadata": {},
   "outputs": [
    {
     "name": "stdout",
     "output_type": "stream",
     "text": [
      "Analysts had forecast that “Cyberpunk” would sell anywhere from 18 million to 25 million copies in its first month.\n",
      "Cyberpunk is the biggest and most expensive project yet for the more than two-decade-old videogame company.\n",
      "It is unusual for game publishers to suggest players seek refunds for their big-budget releases.Several other prominent developers postponed games this year, citing work-from-home challenges caused by the health crisis as a key factor.\n",
      "The company has only one other major franchise, The Witcher, and its last major release is now five years old.\n"
     ]
    }
   ],
   "source": [
    "#Read through all the elements in the dataframe\n",
    "for element in row_doc_df[0]:\n",
    "    print(element)"
   ]
  },
  {
   "cell_type": "markdown",
   "metadata": {},
   "source": [
    "Must assign the column before read through the element whatever dataframe type is adopted."
   ]
  }
 ],
 "metadata": {
  "kernelspec": {
   "display_name": "Python 3",
   "language": "python",
   "name": "python3"
  },
  "language_info": {
   "codemirror_mode": {
    "name": "ipython",
    "version": 3
   },
   "file_extension": ".py",
   "mimetype": "text/x-python",
   "name": "python",
   "nbconvert_exporter": "python",
   "pygments_lexer": "ipython3",
   "version": "3.7.6"
  }
 },
 "nbformat": 4,
 "nbformat_minor": 4
}
