{
 "cells": [
  {
   "cell_type": "code",
   "execution_count": 3,
   "metadata": {},
   "outputs": [],
   "source": [
    "import pandas as pd\n",
    "import numpy as np\n",
    "from dateutil.parser import parse"
   ]
  },
  {
   "cell_type": "code",
   "execution_count": 31,
   "metadata": {},
   "outputs": [
    {
     "data": {
      "text/html": [
       "<div>\n",
       "<style scoped>\n",
       "    .dataframe tbody tr th:only-of-type {\n",
       "        vertical-align: middle;\n",
       "    }\n",
       "\n",
       "    .dataframe tbody tr th {\n",
       "        vertical-align: top;\n",
       "    }\n",
       "\n",
       "    .dataframe thead th {\n",
       "        text-align: right;\n",
       "    }\n",
       "</style>\n",
       "<table border=\"1\" class=\"dataframe\">\n",
       "  <thead>\n",
       "    <tr style=\"text-align: right;\">\n",
       "      <th></th>\n",
       "      <th>City</th>\n",
       "      <th>Temperature</th>\n",
       "      <th>Humidity</th>\n",
       "    </tr>\n",
       "  </thead>\n",
       "  <tbody>\n",
       "    <tr>\n",
       "      <th>0</th>\n",
       "      <td>Taipei</td>\n",
       "      <td>27</td>\n",
       "      <td>87</td>\n",
       "    </tr>\n",
       "    <tr>\n",
       "      <th>1</th>\n",
       "      <td>Taichung</td>\n",
       "      <td>25</td>\n",
       "      <td>84</td>\n",
       "    </tr>\n",
       "    <tr>\n",
       "      <th>2</th>\n",
       "      <td>Kaohsiung</td>\n",
       "      <td>28</td>\n",
       "      <td>85</td>\n",
       "    </tr>\n",
       "  </tbody>\n",
       "</table>\n",
       "</div>"
      ],
      "text/plain": [
       "        City  Temperature  Humidity\n",
       "0     Taipei           27        87\n",
       "1   Taichung           25        84\n",
       "2  Kaohsiung           28        85"
      ]
     },
     "execution_count": 31,
     "metadata": {},
     "output_type": "execute_result"
    }
   ],
   "source": [
    "#Create dataframe\n",
    "df = pd.DataFrame({'City': ['Taipei', 'Taichung', 'Kaohsiung'],\n",
    "                   'Temperature': [27, 25, 28],\n",
    "                   'Humidity': [87, 84, 85]})\n",
    "df"
   ]
  },
  {
   "cell_type": "code",
   "execution_count": 32,
   "metadata": {},
   "outputs": [
    {
     "data": {
      "text/html": [
       "<div>\n",
       "<style scoped>\n",
       "    .dataframe tbody tr th:only-of-type {\n",
       "        vertical-align: middle;\n",
       "    }\n",
       "\n",
       "    .dataframe tbody tr th {\n",
       "        vertical-align: top;\n",
       "    }\n",
       "\n",
       "    .dataframe thead th {\n",
       "        text-align: right;\n",
       "    }\n",
       "</style>\n",
       "<table border=\"1\" class=\"dataframe\">\n",
       "  <thead>\n",
       "    <tr style=\"text-align: right;\">\n",
       "      <th></th>\n",
       "      <th>City</th>\n",
       "      <th>Temperature</th>\n",
       "      <th>Humidity</th>\n",
       "    </tr>\n",
       "  </thead>\n",
       "  <tbody>\n",
       "    <tr>\n",
       "      <th>0</th>\n",
       "      <td>New York</td>\n",
       "      <td>25</td>\n",
       "      <td>75</td>\n",
       "    </tr>\n",
       "    <tr>\n",
       "      <th>1</th>\n",
       "      <td>Austin</td>\n",
       "      <td>27</td>\n",
       "      <td>74</td>\n",
       "    </tr>\n",
       "    <tr>\n",
       "      <th>2</th>\n",
       "      <td>San Diego</td>\n",
       "      <td>28</td>\n",
       "      <td>72</td>\n",
       "    </tr>\n",
       "  </tbody>\n",
       "</table>\n",
       "</div>"
      ],
      "text/plain": [
       "        City  Temperature  Humidity\n",
       "0   New York           25        75\n",
       "1     Austin           27        74\n",
       "2  San Diego           28        72"
      ]
     },
     "execution_count": 32,
     "metadata": {},
     "output_type": "execute_result"
    }
   ],
   "source": [
    "#Create dataframe\n",
    "df2 = pd.DataFrame({'City': ['New York', 'Austin', 'San Diego'],\n",
    "                   'Temperature': [25, 27, 28],\n",
    "                   'Humidity': [75, 74, 72]})\n",
    "df2"
   ]
  },
  {
   "cell_type": "markdown",
   "metadata": {},
   "source": [
    "# Concat"
   ]
  },
  {
   "cell_type": "code",
   "execution_count": 8,
   "metadata": {},
   "outputs": [
    {
     "name": "stdout",
     "output_type": "stream",
     "text": [
      "        City  Temperature  Humidity\n",
      "0     Taipei           27        87\n",
      "1   Taichung           25        84\n",
      "2  Kaohsiung           28        85\n",
      "0   New York           25        75\n",
      "1     Austin           27        74\n",
      "2  San Diego           28        72\n",
      "        City  Temperature  Humidity\n",
      "0     Taipei           27        87\n",
      "1   Taichung           25        84\n",
      "2  Kaohsiung           28        85\n",
      "3   New York           25        75\n",
      "4     Austin           27        74\n",
      "5  San Diego           28        72\n"
     ]
    }
   ],
   "source": [
    "#Concat\n",
    "df_new = pd.concat([df, df2])\n",
    "print(df_new)\n",
    "\n",
    "#The one dataframe is added to the other in a vertical sequence.\n",
    "#However, the index is not ranged in order after concatenation.\n",
    "\n",
    "#Re-range index\n",
    "df_new = pd.concat([df, df2], ignore_index = True)\n",
    "print(df_new) #Index is re-ranged."
   ]
  },
  {
   "cell_type": "code",
   "execution_count": 9,
   "metadata": {},
   "outputs": [
    {
     "name": "stdout",
     "output_type": "stream",
     "text": [
      "        City  Temperature  Humidity       City  Temperature  Humidity\n",
      "0     Taipei           27        87   New York           25        75\n",
      "1   Taichung           25        84     Austin           27        74\n",
      "2  Kaohsiung           28        85  San Diego           28        72\n"
     ]
    }
   ],
   "source": [
    "#Added dataframe horizontally\n",
    "df_new_horizon = pd.concat([df, df2], axis = 1) #axis default = 0, which is vertical concatenation.\n",
    "print(df_new_horizon)"
   ]
  },
  {
   "cell_type": "markdown",
   "metadata": {},
   "source": [
    "# Groupby"
   ]
  },
  {
   "cell_type": "code",
   "execution_count": 4,
   "metadata": {},
   "outputs": [
    {
     "data": {
      "text/html": [
       "<div>\n",
       "<style scoped>\n",
       "    .dataframe tbody tr th:only-of-type {\n",
       "        vertical-align: middle;\n",
       "    }\n",
       "\n",
       "    .dataframe tbody tr th {\n",
       "        vertical-align: top;\n",
       "    }\n",
       "\n",
       "    .dataframe thead th {\n",
       "        text-align: right;\n",
       "    }\n",
       "</style>\n",
       "<table border=\"1\" class=\"dataframe\">\n",
       "  <thead>\n",
       "    <tr style=\"text-align: right;\">\n",
       "      <th></th>\n",
       "      <th>Date</th>\n",
       "      <th>City</th>\n",
       "      <th>Temperature</th>\n",
       "      <th>Humidity</th>\n",
       "    </tr>\n",
       "  </thead>\n",
       "  <tbody>\n",
       "    <tr>\n",
       "      <th>0</th>\n",
       "      <td>2020-12-11</td>\n",
       "      <td>New York</td>\n",
       "      <td>65</td>\n",
       "      <td>56</td>\n",
       "    </tr>\n",
       "    <tr>\n",
       "      <th>1</th>\n",
       "      <td>2020-12-12</td>\n",
       "      <td>New York</td>\n",
       "      <td>66</td>\n",
       "      <td>58</td>\n",
       "    </tr>\n",
       "    <tr>\n",
       "      <th>2</th>\n",
       "      <td>2020-12-13</td>\n",
       "      <td>New York</td>\n",
       "      <td>68</td>\n",
       "      <td>60</td>\n",
       "    </tr>\n",
       "    <tr>\n",
       "      <th>3</th>\n",
       "      <td>2020-12-11</td>\n",
       "      <td>Mumbai</td>\n",
       "      <td>75</td>\n",
       "      <td>80</td>\n",
       "    </tr>\n",
       "    <tr>\n",
       "      <th>4</th>\n",
       "      <td>2020-12-12</td>\n",
       "      <td>Mumbai</td>\n",
       "      <td>78</td>\n",
       "      <td>83</td>\n",
       "    </tr>\n",
       "    <tr>\n",
       "      <th>5</th>\n",
       "      <td>2020-12-13</td>\n",
       "      <td>Mumbai</td>\n",
       "      <td>82</td>\n",
       "      <td>85</td>\n",
       "    </tr>\n",
       "    <tr>\n",
       "      <th>6</th>\n",
       "      <td>2020-12-11</td>\n",
       "      <td>Beijing</td>\n",
       "      <td>80</td>\n",
       "      <td>50</td>\n",
       "    </tr>\n",
       "    <tr>\n",
       "      <th>7</th>\n",
       "      <td>2020-12-12</td>\n",
       "      <td>Beijing</td>\n",
       "      <td>77</td>\n",
       "      <td>40</td>\n",
       "    </tr>\n",
       "    <tr>\n",
       "      <th>8</th>\n",
       "      <td>2020-12-13</td>\n",
       "      <td>Beijing</td>\n",
       "      <td>79</td>\n",
       "      <td>35</td>\n",
       "    </tr>\n",
       "  </tbody>\n",
       "</table>\n",
       "</div>"
      ],
      "text/plain": [
       "         Date      City  Temperature  Humidity\n",
       "0  2020-12-11  New York           65        56\n",
       "1  2020-12-12  New York           66        58\n",
       "2  2020-12-13  New York           68        60\n",
       "3  2020-12-11    Mumbai           75        80\n",
       "4  2020-12-12    Mumbai           78        83\n",
       "5  2020-12-13    Mumbai           82        85\n",
       "6  2020-12-11   Beijing           80        50\n",
       "7  2020-12-12   Beijing           77        40\n",
       "8  2020-12-13   Beijing           79        35"
      ]
     },
     "execution_count": 4,
     "metadata": {},
     "output_type": "execute_result"
    }
   ],
   "source": [
    "#Create a new date column\n",
    "date_str = ['2020-12-11', '2020-12-12', '2020-12-13', \n",
    "            '2020-12-11', '2020-12-12', '2020-12-13', \n",
    "            '2020-12-11', '2020-12-12', '2020-12-13']\n",
    "#A new list where transformation/parse from str to date format can be operated\n",
    "new_date = [parse(d) for d in date_str]\n",
    "#Transform date string into date format in '%Y-%M-%D'\n",
    "date = [d.strftime('%Y-%m-%d') for d in new_date]\n",
    "\n",
    "df = pd.DataFrame({'Date': date,\n",
    "        \n",
    "                   'City':['New York', 'New York', 'New York', \n",
    "                           'Mumbai', 'Mumbai', 'Mumbai', \n",
    "                           'Beijing', 'Beijing', 'Beijing'],\n",
    "                   \n",
    "                   'Temperature':[65, 66, 68, 75, 78, 82, 80, 77, 79],\n",
    "                   'Humidity':[56, 58, 60, 80, 83, 85, 50, 40, 35]\n",
    "                   \n",
    "})\n",
    "df"
   ]
  },
  {
   "cell_type": "code",
   "execution_count": 9,
   "metadata": {},
   "outputs": [
    {
     "name": "stdout",
     "output_type": "stream",
     "text": [
      "The key value for grouping: Beijing\n",
      "The key value for grouping: Mumbai\n",
      "The key value for grouping: New York\n",
      "The grouped dataframe          Date     City  Temperature  Humidity\n",
      "6  2020-12-11  Beijing           80        50\n",
      "7  2020-12-12  Beijing           77        40\n",
      "8  2020-12-13  Beijing           79        35\n",
      "The grouped dataframe          Date    City  Temperature  Humidity\n",
      "3  2020-12-11  Mumbai           75        80\n",
      "4  2020-12-12  Mumbai           78        83\n",
      "5  2020-12-13  Mumbai           82        85\n",
      "The grouped dataframe          Date      City  Temperature  Humidity\n",
      "0  2020-12-11  New York           65        56\n",
      "1  2020-12-12  New York           66        58\n",
      "2  2020-12-13  New York           68        60\n"
     ]
    }
   ],
   "source": [
    "# Group the dataframe by city\n",
    "# 1. Split phase\n",
    "df_group = df.groupby(by = 'City', axis = 0, group_keys = True) \n",
    "#print(df_group) # An pandas object is returned\n",
    "\n",
    "#Check split element \n",
    "for group_key, grouped_df in df_group:\n",
    "    print('The key value for grouping:', group_key)\n",
    "    #print('------------------------------------------------')\n",
    "    #print('The grouped dataframe', grouped_df)\n",
    "    \n",
    "for group_key, grouped_df in df_group:\n",
    "    #print('The key value for grouping:', group_key)\n",
    "    #print('------------------------------------------------')\n",
    "    print('The grouped dataframe', grouped_df)"
   ]
  },
  {
   "cell_type": "code",
   "execution_count": 15,
   "metadata": {},
   "outputs": [
    {
     "name": "stdout",
     "output_type": "stream",
     "text": [
      "         Date     City  Temperature  Humidity\n",
      "6  2020-12-11  Beijing           80        50\n",
      "7  2020-12-12  Beijing           77        40\n",
      "8  2020-12-13  Beijing           79        35\n"
     ]
    }
   ],
   "source": [
    "#Check a exact final dataframe from splits\n",
    "df_group_get_Beijing = df_group.get_group('Beijing')\n",
    "print(df_group_get_Beijing)"
   ]
  },
  {
   "cell_type": "code",
   "execution_count": 26,
   "metadata": {},
   "outputs": [
    {
     "name": "stdout",
     "output_type": "stream",
     "text": [
      "                Date  Temperature  Humidity\n",
      "City                                       \n",
      "Beijing   2020-12-13           80        50\n",
      "Mumbai    2020-12-13           82        85\n",
      "New York  2020-12-13           68        60\n",
      "-----------------------------------------\n",
      "Shape (3, 3)\n",
      "-----------------------------------------\n",
      "Maximum value from from each key City\n",
      "Beijing     80\n",
      "Mumbai      82\n",
      "New York    68\n",
      "Name: Temperature, dtype: int64\n",
      "-----------------------------------------\n",
      "80\n"
     ]
    }
   ],
   "source": [
    "# Obtain the maximum value from each column by which we group the dataframe\n",
    "# 2. Operate/Apply phase: Implement arithemtic or explorative statistics on the split part\n",
    "df_group_max = df_group.max()\n",
    "\n",
    "# 3. After 2, the results are subsequently combined and shown.\n",
    "print(df_group_max)\n",
    "print('-----------------------------------------')\n",
    "print('Shape', df_group_max.shape)\n",
    "print('-----------------------------------------')\n",
    "print('Maximum value from from each key', df_group_max['Temperature'])\n",
    "print('-----------------------------------------')\n",
    "print(df_group_max.iloc[0, 1])"
   ]
  },
  {
   "cell_type": "code",
   "execution_count": 28,
   "metadata": {},
   "outputs": [
    {
     "data": {
      "text/plain": [
       "City\n",
       "Beijing     AxesSubplot(0.125,0.125;0.775x0.755)\n",
       "Mumbai      AxesSubplot(0.125,0.125;0.775x0.755)\n",
       "New York    AxesSubplot(0.125,0.125;0.775x0.755)\n",
       "dtype: object"
      ]
     },
     "execution_count": 28,
     "metadata": {},
     "output_type": "execute_result"
    },
    {
     "data": {
      "image/png": "[encoded data removed]",
      "text/plain": [
       "<Figure size 432x288 with 1 Axes>"
      ]
     },
     "metadata": {
      "needs_background": "light"
     },
     "output_type": "display_data"
    },
    {
     "data": {
      "image/png": "[encoded data removed]",
      "text/plain": [
       "<Figure size 432x288 with 1 Axes>"
      ]
     },
     "metadata": {
      "needs_background": "light"
     },
     "output_type": "display_data"
    },
    {
     "data": {
      "image/png": "[encoded data removed]",
      "text/plain": [
       "<Figure size 432x288 with 1 Axes>"
      ]
     },
     "metadata": {
      "needs_background": "light"
     },
     "output_type": "display_data"
    }
   ],
   "source": [
    "# Plot\n",
    "%matplotlib inline\n",
    "df_group.plot()"
   ]
  },
  {
   "cell_type": "code",
   "execution_count": null,
   "metadata": {},
   "outputs": [],
   "source": []
  },
  {
   "cell_type": "markdown",
   "metadata": {},
   "source": [
    "# Merge"
   ]
  },
  {
   "cell_type": "code",
   "execution_count": 29,
   "metadata": {},
   "outputs": [],
   "source": [
    "us_agg = pd.read_csv('C:\\\\Users\\\\ASUS\\\\Desktop\\\\data_2001-2020-05\\\\Barclays US AGG TR Index USD Unhedged.csv',\n",
    "                    parse_dates = ['Date'])\n",
    "usgg_2yr = pd.read_csv('C:\\\\Users\\\\ASUS\\\\Desktop\\\\data_2001-2020-05\\\\USGG2YR.csv', parse_dates = ['Date'])\n",
    "\n",
    "target = pd.read_csv('C:\\\\Users\\\\ASUS\\\\Desktop\\\\data_2001-2020-05\\\\Target_SP500.csv', parse_dates = ['Date'])"
   ]
  },
  {
   "cell_type": "code",
   "execution_count": 33,
   "metadata": {},
   "outputs": [
    {
     "name": "stdout",
     "output_type": "stream",
     "text": [
      "               City  Temperature  Humidity\n",
      "Taiwan 0     Taipei           27        87\n",
      "       1   Taichung           25        84\n",
      "       2  Kaohsiung           28        85\n",
      "US     0   New York           25        75\n",
      "       1     Austin           27        74\n",
      "       2  San Diego           28        72\n",
      "        City  Temperature  Humidity\n",
      "0     Taipei           27        87\n",
      "1   Taichung           25        84\n",
      "2  Kaohsiung           28        85\n"
     ]
    }
   ],
   "source": [
    "#Using keys\n",
    "df_new_keys = pd.concat([df, df2], keys = ['Taiwan', 'US']) #add the names to the corresponding layers \n",
    "print(df_new_keys)\n",
    "\n",
    "#We can easily access the layer with the key we name for the layer.\n",
    "tw_layer = df_new_keys.loc['Taiwan']\n",
    "print(tw_layer)"
   ]
  },
  {
   "cell_type": "markdown",
   "metadata": {},
   "source": [
    "# Implement on some practical data"
   ]
  },
  {
   "cell_type": "markdown",
   "metadata": {},
   "source": [
    "The two practical time-series data are of different length based on datetime column."
   ]
  },
  {
   "cell_type": "code",
   "execution_count": 34,
   "metadata": {},
   "outputs": [
    {
     "name": "stdout",
     "output_type": "stream",
     "text": [
      "<class 'pandas.core.frame.DataFrame'>\n",
      "(4843, 4)\n",
      "           Date  PX_LAST  Change  % Change\n",
      "4828 2020-04-16  2335.98    4.06  0.174105\n",
      "4829 2020-04-17  2330.43   -5.55 -0.237588\n",
      "4830 2020-04-20  2331.72    1.29  0.055355\n",
      "4831 2020-04-21  2335.38    3.66  0.156966\n",
      "4832 2020-04-22  2332.57   -2.81 -0.120323\n",
      "4833 2020-04-23  2335.06    2.49  0.106749\n",
      "4834 2020-04-24  2336.01    0.95  0.040684\n",
      "4835 2020-04-27  2329.40   -6.61 -0.282961\n",
      "4836 2020-04-28  2335.05    5.65  0.242552\n",
      "4837 2020-04-29  2335.43    0.38  0.016274\n",
      "4838 2020-04-30  2335.85    0.42  0.017984\n",
      "4839 2020-05-01  2333.13   -2.72 -0.116446\n",
      "4840 2020-05-04  2332.06   -1.07 -0.045861\n",
      "4841 2020-05-05  2330.31   -1.75 -0.075041\n",
      "4842 2020-05-06  2323.15   -7.16 -0.307255\n"
     ]
    }
   ],
   "source": [
    "print(type(us_agg))\n",
    "print(us_agg.shape)\n",
    "print(us_agg.tail(15))"
   ]
  },
  {
   "cell_type": "code",
   "execution_count": 35,
   "metadata": {},
   "outputs": [
    {
     "name": "stdout",
     "output_type": "stream",
     "text": [
      "(5045, 4)\n",
      "           Date  PX_LAST  Change  % Change\n",
      "5030 2020-04-16   0.2066  0.0097  4.926359\n",
      "5031 2020-04-17   0.2019 -0.0047 -2.274927\n",
      "5032 2020-04-20   0.2016 -0.0003 -0.148588\n",
      "5033 2020-04-21   0.2034  0.0018  0.892857\n",
      "5034 2020-04-22   0.2133  0.0099  4.867257\n",
      "5035 2020-04-23   0.2191  0.0058  2.719175\n",
      "5036 2020-04-24   0.2245  0.0054  2.464628\n",
      "5037 2020-04-27   0.2223 -0.0022 -0.979955\n",
      "5038 2020-04-28   0.2112 -0.0111 -4.993252\n",
      "5039 2020-04-29   0.2014 -0.0098 -4.640152\n",
      "5040 2020-04-30   0.1956 -0.0058 -2.879841\n",
      "5041 2020-05-01   0.1900 -0.0056 -2.862986\n",
      "5042 2020-05-04   0.1822 -0.0078 -4.105263\n",
      "5043 2020-05-05   0.1882  0.0060  3.293085\n",
      "5044 2020-05-06   0.1784 -0.0098 -5.207226\n"
     ]
    }
   ],
   "source": [
    "print(usgg_2yr.shape)\n",
    "print(usgg_2yr.tail(15))"
   ]
  },
  {
   "cell_type": "code",
   "execution_count": 44,
   "metadata": {},
   "outputs": [
    {
     "name": "stdout",
     "output_type": "stream",
     "text": [
      "           Date  PX_LAST_x  Change_x  % Change_x  PX_LAST_y  Change_y  \\\n",
      "0    2001-01-02     938.84       NaN         NaN     4.8620       NaN   \n",
      "1    2001-01-03     933.62     -5.22   -0.556005     4.9290     0.067   \n",
      "2    2001-01-04     938.37      4.75    0.508772     4.7870    -0.142   \n",
      "3    2001-01-05     943.45      5.08    0.541364     4.5690    -0.218   \n",
      "4    2001-01-08     944.95      1.50    0.158991     4.5600    -0.009   \n",
      "...         ...        ...       ...         ...        ...       ...   \n",
      "5040 2019-12-25        NaN       NaN         NaN     1.6210     0.000   \n",
      "5041 2020-01-01        NaN       NaN         NaN     1.5691     0.000   \n",
      "5042 2020-01-20        NaN       NaN         NaN     1.5592     0.000   \n",
      "5043 2020-02-17        NaN       NaN         NaN     1.4279     0.000   \n",
      "5044 2020-04-10        NaN       NaN         NaN     0.2254     0.000   \n",
      "\n",
      "      % Change_y  \n",
      "0            NaN  \n",
      "1       1.378034  \n",
      "2      -2.880909  \n",
      "3      -4.554000  \n",
      "4      -0.196980  \n",
      "...          ...  \n",
      "5040    0.000000  \n",
      "5041    0.000000  \n",
      "5042    0.000000  \n",
      "5043    0.000000  \n",
      "5044    0.000000  \n",
      "\n",
      "[5045 rows x 7 columns]\n"
     ]
    }
   ],
   "source": [
    "#Try to merge two data \n",
    "df_new = pd.merge(us_agg, usgg_2yr, on = 'Date', how = 'outer')\n",
    "print(df_new)\n",
    "# The pd.merge() allows data combination following same key name for merge. on = 'Date' in this case.\n",
    "# We can also assign the left/right key (left_on; right_on) to determine a standard key for combination across two df.\n",
    "# It is shown that even with different length or content in the key index for merge, the two data can still be combined together."
   ]
  },
  {
   "cell_type": "code",
   "execution_count": 21,
   "metadata": {},
   "outputs": [
    {
     "name": "stdout",
     "output_type": "stream",
     "text": [
      "(4866, 4)\n"
     ]
    }
   ],
   "source": [
    "print(target.shape)"
   ]
  },
  {
   "cell_type": "code",
   "execution_count": 52,
   "metadata": {},
   "outputs": [
    {
     "name": "stdout",
     "output_type": "stream",
     "text": [
      "           Date  PX_LAST_x  Change_x  % Change_x  PX_LAST_y  Change_y  \\\n",
      "0    2001-01-02     938.84       NaN         NaN     4.8620       NaN   \n",
      "1    2001-01-03     933.62     -5.22   -0.556005     4.9290     0.067   \n",
      "2    2001-01-04     938.37      4.75    0.508772     4.7870    -0.142   \n",
      "3    2001-01-05     943.45      5.08    0.541364     4.5690    -0.218   \n",
      "4    2001-01-08     944.95      1.50    0.158991     4.5600    -0.009   \n",
      "...         ...        ...       ...         ...        ...       ...   \n",
      "5040 2019-12-25        NaN       NaN         NaN     1.6210     0.000   \n",
      "5041 2020-01-01        NaN       NaN         NaN     1.5691     0.000   \n",
      "5042 2020-01-20        NaN       NaN         NaN     1.5592     0.000   \n",
      "5043 2020-02-17        NaN       NaN         NaN     1.4279     0.000   \n",
      "5044 2020-04-10        NaN       NaN         NaN     0.2254     0.000   \n",
      "\n",
      "      % Change_y  \n",
      "0            NaN  \n",
      "1       1.378034  \n",
      "2      -2.880909  \n",
      "3      -4.554000  \n",
      "4      -0.196980  \n",
      "...          ...  \n",
      "5040    0.000000  \n",
      "5041    0.000000  \n",
      "5042    0.000000  \n",
      "5043    0.000000  \n",
      "5044    0.000000  \n",
      "\n",
      "[5045 rows x 7 columns]\n",
      "           Date     SP500  SP500_return  SP500_class  PX_LAST  Change  \\\n",
      "0    2001-01-02   1283.27     -2.803193            0   4.8620     NaN   \n",
      "1    2001-01-03   1347.56      5.009858            1   4.9290  0.0670   \n",
      "2    2001-01-04   1333.34     -1.055241            0   4.7870 -0.1420   \n",
      "3    2001-01-05   1298.35     -2.624237            0   4.5690 -0.2180   \n",
      "4    2001-01-08   1295.86     -0.191782            0   4.5600 -0.0090   \n",
      "...         ...       ...           ...          ...      ...     ...   \n",
      "4861 2020-04-30  2,912.43     -0.921242            0   0.1956 -0.0058   \n",
      "4862 2020-05-01  2,830.71     -2.805904            0   0.1900 -0.0056   \n",
      "4863 2020-05-04  2,842.74      0.424982            1   0.1822 -0.0078   \n",
      "4864 2020-05-05  2,868.44      0.904057            1   0.1882  0.0060   \n",
      "4865 2020-05-06  2,848.42     -0.697940            0   0.1784 -0.0098   \n",
      "\n",
      "      % Change  \n",
      "0          NaN  \n",
      "1     1.378034  \n",
      "2    -2.880909  \n",
      "3    -4.554000  \n",
      "4    -0.196980  \n",
      "...        ...  \n",
      "4861 -2.879841  \n",
      "4862 -2.862986  \n",
      "4863 -4.105263  \n",
      "4864  3.293085  \n",
      "4865 -5.207226  \n",
      "\n",
      "[4866 rows x 7 columns]\n"
     ]
    },
    {
     "data": {
      "text/plain": [
       "Date            0\n",
       "SP500           0\n",
       "SP500_return    0\n",
       "SP500_class     0\n",
       "PX_LAST         0\n",
       "Change          1\n",
       "% Change        1\n",
       "dtype: int64"
      ]
     },
     "execution_count": 52,
     "metadata": {},
     "output_type": "execute_result"
    }
   ],
   "source": [
    "df_new2 = pd.merge(target, usgg_2yr, on = 'Date', how = 'left')\n",
    "print(df_new)\n",
    "#print(df_new.tail(26))\n",
    "#print(df_new.head(26))\n",
    "print(df_new2)\n",
    "df_new2.isnull().sum()"
   ]
  },
  {
   "cell_type": "code",
   "execution_count": 18,
   "metadata": {},
   "outputs": [],
   "source": [
    "df_new.to_csv('C:\\\\Users\\\\ASUS\\\\Desktop\\\\for_check.csv')"
   ]
  },
  {
   "cell_type": "code",
   "execution_count": null,
   "metadata": {},
   "outputs": [],
   "source": []
  }
 ],
 "metadata": {
  "kernelspec": {
   "display_name": "Python 3",
   "language": "python",
   "name": "python3"
  },
  "language_info": {
   "codemirror_mode": {
    "name": "ipython",
    "version": 3
   },
   "file_extension": ".py",
   "mimetype": "text/x-python",
   "name": "python",
   "nbconvert_exporter": "python",
   "pygments_lexer": "ipython3",
   "version": "3.7.6"
  }
 },
 "nbformat": 4,
 "nbformat_minor": 4
}
