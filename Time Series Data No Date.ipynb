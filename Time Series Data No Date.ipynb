{
 "cells": [
  {
   "cell_type": "code",
   "execution_count": 8,
   "metadata": {},
   "outputs": [],
   "source": [
    "import pandas as pd\n",
    "import numpy as np"
   ]
  },
  {
   "cell_type": "code",
   "execution_count": 5,
   "metadata": {},
   "outputs": [
    {
     "data": {
      "text/html": [
       "<div>\n",
       "<style scoped>\n",
       "    .dataframe tbody tr th:only-of-type {\n",
       "        vertical-align: middle;\n",
       "    }\n",
       "\n",
       "    .dataframe tbody tr th {\n",
       "        vertical-align: top;\n",
       "    }\n",
       "\n",
       "    .dataframe thead th {\n",
       "        text-align: right;\n",
       "    }\n",
       "</style>\n",
       "<table border=\"1\" class=\"dataframe\">\n",
       "  <thead>\n",
       "    <tr style=\"text-align: right;\">\n",
       "      <th></th>\n",
       "      <th>Date</th>\n",
       "      <th>SP500</th>\n",
       "      <th>SP500_%Change</th>\n",
       "    </tr>\n",
       "  </thead>\n",
       "  <tbody>\n",
       "    <tr>\n",
       "      <th>0</th>\n",
       "      <td>1995/1/3</td>\n",
       "      <td>459.11</td>\n",
       "      <td>NaN</td>\n",
       "    </tr>\n",
       "    <tr>\n",
       "      <th>1</th>\n",
       "      <td>1995/1/4</td>\n",
       "      <td>460.71</td>\n",
       "      <td>0.348500</td>\n",
       "    </tr>\n",
       "    <tr>\n",
       "      <th>2</th>\n",
       "      <td>1995/1/5</td>\n",
       "      <td>460.34</td>\n",
       "      <td>-0.080311</td>\n",
       "    </tr>\n",
       "    <tr>\n",
       "      <th>3</th>\n",
       "      <td>1995/1/6</td>\n",
       "      <td>460.68</td>\n",
       "      <td>0.073858</td>\n",
       "    </tr>\n",
       "    <tr>\n",
       "      <th>4</th>\n",
       "      <td>1995/1/9</td>\n",
       "      <td>460.83</td>\n",
       "      <td>0.032561</td>\n",
       "    </tr>\n",
       "    <tr>\n",
       "      <th>5</th>\n",
       "      <td>1995/1/10</td>\n",
       "      <td>461.68</td>\n",
       "      <td>0.184450</td>\n",
       "    </tr>\n",
       "    <tr>\n",
       "      <th>6</th>\n",
       "      <td>1995/1/11</td>\n",
       "      <td>461.66</td>\n",
       "      <td>-0.004332</td>\n",
       "    </tr>\n",
       "    <tr>\n",
       "      <th>7</th>\n",
       "      <td>1995/1/12</td>\n",
       "      <td>461.64</td>\n",
       "      <td>-0.004332</td>\n",
       "    </tr>\n",
       "    <tr>\n",
       "      <th>8</th>\n",
       "      <td>1995/1/13</td>\n",
       "      <td>465.97</td>\n",
       "      <td>0.937960</td>\n",
       "    </tr>\n",
       "    <tr>\n",
       "      <th>9</th>\n",
       "      <td>1995/1/16</td>\n",
       "      <td>469.38</td>\n",
       "      <td>0.731807</td>\n",
       "    </tr>\n",
       "  </tbody>\n",
       "</table>\n",
       "</div>"
      ],
      "text/plain": [
       "        Date   SP500  SP500_%Change\n",
       "0   1995/1/3  459.11            NaN\n",
       "1   1995/1/4  460.71       0.348500\n",
       "2   1995/1/5  460.34      -0.080311\n",
       "3   1995/1/6  460.68       0.073858\n",
       "4   1995/1/9  460.83       0.032561\n",
       "5  1995/1/10  461.68       0.184450\n",
       "6  1995/1/11  461.66      -0.004332\n",
       "7  1995/1/12  461.64      -0.004332\n",
       "8  1995/1/13  465.97       0.937960\n",
       "9  1995/1/16  469.38       0.731807"
      ]
     },
     "execution_count": 5,
     "metadata": {},
     "output_type": "execute_result"
    }
   ],
   "source": [
    "df = pd.read_csv('SP500_for_practice_csv.csv')\n",
    "df.head(10)"
   ]
  },
  {
   "cell_type": "code",
   "execution_count": 7,
   "metadata": {},
   "outputs": [
    {
     "data": {
      "text/html": [
       "<div>\n",
       "<style scoped>\n",
       "    .dataframe tbody tr th:only-of-type {\n",
       "        vertical-align: middle;\n",
       "    }\n",
       "\n",
       "    .dataframe tbody tr th {\n",
       "        vertical-align: top;\n",
       "    }\n",
       "\n",
       "    .dataframe thead th {\n",
       "        text-align: right;\n",
       "    }\n",
       "</style>\n",
       "<table border=\"1\" class=\"dataframe\">\n",
       "  <thead>\n",
       "    <tr style=\"text-align: right;\">\n",
       "      <th></th>\n",
       "      <th>SP500</th>\n",
       "      <th>SP500_%Change</th>\n",
       "    </tr>\n",
       "  </thead>\n",
       "  <tbody>\n",
       "    <tr>\n",
       "      <th>0</th>\n",
       "      <td>459.11</td>\n",
       "      <td>NaN</td>\n",
       "    </tr>\n",
       "    <tr>\n",
       "      <th>1</th>\n",
       "      <td>460.71</td>\n",
       "      <td>0.348500</td>\n",
       "    </tr>\n",
       "    <tr>\n",
       "      <th>2</th>\n",
       "      <td>460.34</td>\n",
       "      <td>-0.080311</td>\n",
       "    </tr>\n",
       "    <tr>\n",
       "      <th>3</th>\n",
       "      <td>460.68</td>\n",
       "      <td>0.073858</td>\n",
       "    </tr>\n",
       "    <tr>\n",
       "      <th>4</th>\n",
       "      <td>460.83</td>\n",
       "      <td>0.032561</td>\n",
       "    </tr>\n",
       "    <tr>\n",
       "      <th>...</th>\n",
       "      <td>...</td>\n",
       "      <td>...</td>\n",
       "    </tr>\n",
       "    <tr>\n",
       "      <th>6400</th>\n",
       "      <td>3,112.35</td>\n",
       "      <td>-0.336870</td>\n",
       "    </tr>\n",
       "    <tr>\n",
       "      <th>6401</th>\n",
       "      <td>3,193.93</td>\n",
       "      <td>2.621170</td>\n",
       "    </tr>\n",
       "    <tr>\n",
       "      <th>6402</th>\n",
       "      <td>3,232.39</td>\n",
       "      <td>1.204159</td>\n",
       "    </tr>\n",
       "    <tr>\n",
       "      <th>6403</th>\n",
       "      <td>3,207.18</td>\n",
       "      <td>-0.779918</td>\n",
       "    </tr>\n",
       "    <tr>\n",
       "      <th>6404</th>\n",
       "      <td>3,190.14</td>\n",
       "      <td>-0.531308</td>\n",
       "    </tr>\n",
       "  </tbody>\n",
       "</table>\n",
       "<p>6405 rows × 2 columns</p>\n",
       "</div>"
      ],
      "text/plain": [
       "         SP500  SP500_%Change\n",
       "0       459.11            NaN\n",
       "1       460.71       0.348500\n",
       "2       460.34      -0.080311\n",
       "3       460.68       0.073858\n",
       "4       460.83       0.032561\n",
       "...        ...            ...\n",
       "6400  3,112.35      -0.336870\n",
       "6401  3,193.93       2.621170\n",
       "6402  3,232.39       1.204159\n",
       "6403  3,207.18      -0.779918\n",
       "6404  3,190.14      -0.531308\n",
       "\n",
       "[6405 rows x 2 columns]"
      ]
     },
     "execution_count": 7,
     "metadata": {},
     "output_type": "execute_result"
    }
   ],
   "source": [
    "df_no_date = df.drop(['Date'], axis = 1)\n",
    "df_no_date"
   ]
  },
  {
   "cell_type": "code",
   "execution_count": 74,
   "metadata": {},
   "outputs": [
    {
     "data": {
      "text/html": [
       "<div>\n",
       "<style scoped>\n",
       "    .dataframe tbody tr th:only-of-type {\n",
       "        vertical-align: middle;\n",
       "    }\n",
       "\n",
       "    .dataframe tbody tr th {\n",
       "        vertical-align: top;\n",
       "    }\n",
       "\n",
       "    .dataframe thead th {\n",
       "        text-align: right;\n",
       "    }\n",
       "</style>\n",
       "<table border=\"1\" class=\"dataframe\">\n",
       "  <thead>\n",
       "    <tr style=\"text-align: right;\">\n",
       "      <th></th>\n",
       "      <th>SP500</th>\n",
       "      <th>SP500_%Change</th>\n",
       "    </tr>\n",
       "  </thead>\n",
       "  <tbody>\n",
       "    <tr>\n",
       "      <th>1</th>\n",
       "      <td>460.71</td>\n",
       "      <td>0.348500</td>\n",
       "    </tr>\n",
       "    <tr>\n",
       "      <th>2</th>\n",
       "      <td>460.34</td>\n",
       "      <td>-0.080311</td>\n",
       "    </tr>\n",
       "    <tr>\n",
       "      <th>3</th>\n",
       "      <td>460.68</td>\n",
       "      <td>0.073858</td>\n",
       "    </tr>\n",
       "    <tr>\n",
       "      <th>4</th>\n",
       "      <td>460.83</td>\n",
       "      <td>0.032561</td>\n",
       "    </tr>\n",
       "    <tr>\n",
       "      <th>5</th>\n",
       "      <td>461.68</td>\n",
       "      <td>0.184450</td>\n",
       "    </tr>\n",
       "    <tr>\n",
       "      <th>...</th>\n",
       "      <td>...</td>\n",
       "      <td>...</td>\n",
       "    </tr>\n",
       "    <tr>\n",
       "      <th>6400</th>\n",
       "      <td>3,112.35</td>\n",
       "      <td>-0.336870</td>\n",
       "    </tr>\n",
       "    <tr>\n",
       "      <th>6401</th>\n",
       "      <td>3,193.93</td>\n",
       "      <td>2.621170</td>\n",
       "    </tr>\n",
       "    <tr>\n",
       "      <th>6402</th>\n",
       "      <td>3,232.39</td>\n",
       "      <td>1.204159</td>\n",
       "    </tr>\n",
       "    <tr>\n",
       "      <th>6403</th>\n",
       "      <td>3,207.18</td>\n",
       "      <td>-0.779918</td>\n",
       "    </tr>\n",
       "    <tr>\n",
       "      <th>6404</th>\n",
       "      <td>3,190.14</td>\n",
       "      <td>-0.531308</td>\n",
       "    </tr>\n",
       "  </tbody>\n",
       "</table>\n",
       "<p>6404 rows × 2 columns</p>\n",
       "</div>"
      ],
      "text/plain": [
       "         SP500  SP500_%Change\n",
       "1       460.71       0.348500\n",
       "2       460.34      -0.080311\n",
       "3       460.68       0.073858\n",
       "4       460.83       0.032561\n",
       "5       461.68       0.184450\n",
       "...        ...            ...\n",
       "6400  3,112.35      -0.336870\n",
       "6401  3,193.93       2.621170\n",
       "6402  3,232.39       1.204159\n",
       "6403  3,207.18      -0.779918\n",
       "6404  3,190.14      -0.531308\n",
       "\n",
       "[6404 rows x 2 columns]"
      ]
     },
     "execution_count": 74,
     "metadata": {},
     "output_type": "execute_result"
    }
   ],
   "source": [
    "#Use .dropna() to drop the index with missing values.\n",
    "#df_no_date.iloc[0, 1]\n",
    "df_no_date.dropna(inplace = True)\n",
    "df_no_date"
   ]
  },
  {
   "cell_type": "code",
   "execution_count": 92,
   "metadata": {},
   "outputs": [
    {
     "data": {
      "text/html": [
       "<div>\n",
       "<style scoped>\n",
       "    .dataframe tbody tr th:only-of-type {\n",
       "        vertical-align: middle;\n",
       "    }\n",
       "\n",
       "    .dataframe tbody tr th {\n",
       "        vertical-align: top;\n",
       "    }\n",
       "\n",
       "    .dataframe thead th {\n",
       "        text-align: right;\n",
       "    }\n",
       "</style>\n",
       "<table border=\"1\" class=\"dataframe\">\n",
       "  <thead>\n",
       "    <tr style=\"text-align: right;\">\n",
       "      <th></th>\n",
       "      <th>SP500</th>\n",
       "      <th>SP500_%Change</th>\n",
       "    </tr>\n",
       "  </thead>\n",
       "  <tbody>\n",
       "    <tr>\n",
       "      <th>1</th>\n",
       "      <td>460.71</td>\n",
       "      <td>0.348500</td>\n",
       "    </tr>\n",
       "    <tr>\n",
       "      <th>2</th>\n",
       "      <td>460.34</td>\n",
       "      <td>-0.080311</td>\n",
       "    </tr>\n",
       "    <tr>\n",
       "      <th>3</th>\n",
       "      <td>460.68</td>\n",
       "      <td>0.073858</td>\n",
       "    </tr>\n",
       "    <tr>\n",
       "      <th>4</th>\n",
       "      <td>460.83</td>\n",
       "      <td>0.032561</td>\n",
       "    </tr>\n",
       "    <tr>\n",
       "      <th>5</th>\n",
       "      <td>461.68</td>\n",
       "      <td>0.184450</td>\n",
       "    </tr>\n",
       "    <tr>\n",
       "      <th>6</th>\n",
       "      <td>461.66</td>\n",
       "      <td>-0.004332</td>\n",
       "    </tr>\n",
       "    <tr>\n",
       "      <th>7</th>\n",
       "      <td>461.64</td>\n",
       "      <td>-0.004332</td>\n",
       "    </tr>\n",
       "    <tr>\n",
       "      <th>8</th>\n",
       "      <td>465.97</td>\n",
       "      <td>0.937960</td>\n",
       "    </tr>\n",
       "    <tr>\n",
       "      <th>9</th>\n",
       "      <td>469.38</td>\n",
       "      <td>0.731807</td>\n",
       "    </tr>\n",
       "    <tr>\n",
       "      <th>10</th>\n",
       "      <td>470.05</td>\n",
       "      <td>0.142741</td>\n",
       "    </tr>\n",
       "    <tr>\n",
       "      <th>11</th>\n",
       "      <td>469.72</td>\n",
       "      <td>-0.070205</td>\n",
       "    </tr>\n",
       "    <tr>\n",
       "      <th>12</th>\n",
       "      <td>466.95</td>\n",
       "      <td>-0.589713</td>\n",
       "    </tr>\n",
       "    <tr>\n",
       "      <th>13</th>\n",
       "      <td>464.78</td>\n",
       "      <td>-0.464718</td>\n",
       "    </tr>\n",
       "    <tr>\n",
       "      <th>14</th>\n",
       "      <td>465.81</td>\n",
       "      <td>0.221610</td>\n",
       "    </tr>\n",
       "    <tr>\n",
       "      <th>15</th>\n",
       "      <td>465.86</td>\n",
       "      <td>0.010734</td>\n",
       "    </tr>\n",
       "    <tr>\n",
       "      <th>16</th>\n",
       "      <td>467.44</td>\n",
       "      <td>0.339158</td>\n",
       "    </tr>\n",
       "    <tr>\n",
       "      <th>17</th>\n",
       "      <td>468.32</td>\n",
       "      <td>0.188259</td>\n",
       "    </tr>\n",
       "    <tr>\n",
       "      <th>18</th>\n",
       "      <td>470.39</td>\n",
       "      <td>0.442005</td>\n",
       "    </tr>\n",
       "    <tr>\n",
       "      <th>19</th>\n",
       "      <td>468.51</td>\n",
       "      <td>-0.399668</td>\n",
       "    </tr>\n",
       "    <tr>\n",
       "      <th>20</th>\n",
       "      <td>470.42</td>\n",
       "      <td>0.407675</td>\n",
       "    </tr>\n",
       "  </tbody>\n",
       "</table>\n",
       "</div>"
      ],
      "text/plain": [
       "     SP500  SP500_%Change\n",
       "1   460.71       0.348500\n",
       "2   460.34      -0.080311\n",
       "3   460.68       0.073858\n",
       "4   460.83       0.032561\n",
       "5   461.68       0.184450\n",
       "6   461.66      -0.004332\n",
       "7   461.64      -0.004332\n",
       "8   465.97       0.937960\n",
       "9   469.38       0.731807\n",
       "10  470.05       0.142741\n",
       "11  469.72      -0.070205\n",
       "12  466.95      -0.589713\n",
       "13  464.78      -0.464718\n",
       "14  465.81       0.221610\n",
       "15  465.86       0.010734\n",
       "16  467.44       0.339158\n",
       "17  468.32       0.188259\n",
       "18  470.39       0.442005\n",
       "19  468.51      -0.399668\n",
       "20  470.42       0.407675"
      ]
     },
     "execution_count": 92,
     "metadata": {},
     "output_type": "execute_result"
    }
   ],
   "source": [
    "#Use the shorter dataset for demo\n",
    "df_demo = df_no_date.head(20)\n",
    "df_demo"
   ]
  },
  {
   "cell_type": "markdown",
   "metadata": {},
   "source": [
    "pd.date_range()"
   ]
  },
  {
   "cell_type": "code",
   "execution_count": 93,
   "metadata": {},
   "outputs": [
    {
     "data": {
      "text/plain": [
       "DatetimeIndex(['1995-01-04', '1995-01-05', '1995-01-06', '1995-01-09',\n",
       "               '1995-01-10', '1995-01-11', '1995-01-12', '1995-01-13',\n",
       "               '1995-01-16', '1995-01-17', '1995-01-18', '1995-01-19',\n",
       "               '1995-01-20', '1995-01-23', '1995-01-24', '1995-01-25',\n",
       "               '1995-01-26', '1995-01-27', '1995-01-30', '1995-01-31'],\n",
       "              dtype='datetime64[ns]', freq='B')"
      ]
     },
     "execution_count": 93,
     "metadata": {},
     "output_type": "execute_result"
    }
   ],
   "source": [
    "#Create a new range of datetime\n",
    "date_range = pd.date_range(start = \"1995-01-04\", end = \"1995-01-31\", freq = 'B') #Business date, so holidays will be skipped\n",
    "date_range"
   ]
  },
  {
   "cell_type": "code",
   "execution_count": 104,
   "metadata": {},
   "outputs": [
    {
     "name": "stdout",
     "output_type": "stream",
     "text": [
      "             SP500  SP500_%Change\n",
      "1995-01-04  460.71       0.348500\n",
      "1995-01-05  460.34      -0.080311\n",
      "1995-01-06  460.68       0.073858\n",
      "1995-01-09  460.83       0.032561\n",
      "1995-01-10  461.68       0.184450\n",
      "1995-01-11  461.66      -0.004332\n",
      "1995-01-12  461.64      -0.004332\n",
      "1995-01-13  465.97       0.937960\n",
      "1995-01-16  469.38       0.731807\n",
      "1995-01-17  470.05       0.142741\n",
      "1995-01-18  469.72      -0.070205\n",
      "1995-01-19  466.95      -0.589713\n",
      "1995-01-20  464.78      -0.464718\n",
      "1995-01-23  465.81       0.221610\n",
      "1995-01-24  465.86       0.010734\n",
      "1995-01-25  467.44       0.339158\n",
      "1995-01-26  468.32       0.188259\n",
      "1995-01-27  470.39       0.442005\n",
      "1995-01-30  468.51      -0.399668\n",
      "1995-01-31  470.42       0.407675\n"
     ]
    }
   ],
   "source": [
    "#Set the date range as index\n",
    "df_demo_i = df_demo.set_index(date_range)\n",
    "print(df_demo_i)"
   ]
  },
  {
   "cell_type": "code",
   "execution_count": 95,
   "metadata": {},
   "outputs": [],
   "source": [
    "#If one hopes not to keep datetime as index, reset it\n",
    "df_demo_no_i = df_demo_i.reset_index()"
   ]
  },
  {
   "cell_type": "code",
   "execution_count": 96,
   "metadata": {},
   "outputs": [
    {
     "name": "stdout",
     "output_type": "stream",
     "text": [
      "        index   SP500  SP500_%Change\n",
      "0  1995-01-04  460.71       0.348500\n",
      "1  1995-01-05  460.34      -0.080311\n",
      "2  1995-01-06  460.68       0.073858\n",
      "3  1995-01-09  460.83       0.032561\n",
      "4  1995-01-10  461.68       0.184450\n",
      "5  1995-01-11  461.66      -0.004332\n",
      "6  1995-01-12  461.64      -0.004332\n",
      "7  1995-01-13  465.97       0.937960\n",
      "8  1995-01-16  469.38       0.731807\n",
      "9  1995-01-17  470.05       0.142741\n",
      "10 1995-01-18  469.72      -0.070205\n",
      "11 1995-01-19  466.95      -0.589713\n",
      "12 1995-01-20  464.78      -0.464718\n",
      "13 1995-01-23  465.81       0.221610\n",
      "14 1995-01-24  465.86       0.010734\n",
      "15 1995-01-25  467.44       0.339158\n",
      "16 1995-01-26  468.32       0.188259\n",
      "17 1995-01-27  470.39       0.442005\n",
      "18 1995-01-30  468.51      -0.399668\n",
      "19 1995-01-31  470.42       0.407675\n"
     ]
    }
   ],
   "source": [
    "print(df_demo_no_i)"
   ]
  },
  {
   "cell_type": "code",
   "execution_count": 36,
   "metadata": {},
   "outputs": [
    {
     "data": {
      "text/plain": [
       "<matplotlib.axes._subplots.AxesSubplot at 0x1af37cd5b88>"
      ]
     },
     "execution_count": 36,
     "metadata": {},
     "output_type": "execute_result"
    },
    {
     "data": {
      "image/png": "[encoded data removed]",
      "text/plain": [
       "<Figure size 432x288 with 1 Axes>"
      ]
     },
     "metadata": {
      "needs_background": "light"
     },
     "output_type": "display_data"
    }
   ],
   "source": [
    "#Plot\n",
    "%matplotlib inline\n",
    "df_demo_no_i.plot(x = 'index')"
   ]
  },
  {
   "cell_type": "code",
   "execution_count": 97,
   "metadata": {},
   "outputs": [],
   "source": [
    "#Choose a shorter dataset (again)\n",
    "#When df is not indexed with datetime\n",
    "df_demo_no_i_2 = df_demo_no_i[df_demo_no_i['index'] >= \"1995-01-20\"]\n",
    "\n",
    "#When indexed with datetime\n",
    "df_demo_i_2 = df_demo_i[\"1995-01-20\":\"1995-01-31\"]"
   ]
  },
  {
   "cell_type": "code",
   "execution_count": 98,
   "metadata": {},
   "outputs": [
    {
     "name": "stdout",
     "output_type": "stream",
     "text": [
      "        index   SP500  SP500_%Change\n",
      "12 1995-01-20  464.78      -0.464718\n",
      "13 1995-01-23  465.81       0.221610\n",
      "14 1995-01-24  465.86       0.010734\n",
      "15 1995-01-25  467.44       0.339158\n",
      "16 1995-01-26  468.32       0.188259\n",
      "17 1995-01-27  470.39       0.442005\n",
      "18 1995-01-30  468.51      -0.399668\n",
      "19 1995-01-31  470.42       0.407675\n",
      "             SP500  SP500_%Change\n",
      "1995-01-20  464.78      -0.464718\n",
      "1995-01-23  465.81       0.221610\n",
      "1995-01-24  465.86       0.010734\n",
      "1995-01-25  467.44       0.339158\n",
      "1995-01-26  468.32       0.188259\n",
      "1995-01-27  470.39       0.442005\n",
      "1995-01-30  468.51      -0.399668\n",
      "1995-01-31  470.42       0.407675\n"
     ]
    }
   ],
   "source": [
    "print(df_demo_no_i_2)\n",
    "print(df_demo_i_2)"
   ]
  },
  {
   "cell_type": "markdown",
   "metadata": {},
   "source": [
    "Use .asfreq() to adjust the frequency of original data"
   ]
  },
  {
   "cell_type": "code",
   "execution_count": 99,
   "metadata": {},
   "outputs": [
    {
     "data": {
      "text/html": [
       "<div>\n",
       "<style scoped>\n",
       "    .dataframe tbody tr th:only-of-type {\n",
       "        vertical-align: middle;\n",
       "    }\n",
       "\n",
       "    .dataframe tbody tr th {\n",
       "        vertical-align: top;\n",
       "    }\n",
       "\n",
       "    .dataframe thead th {\n",
       "        text-align: right;\n",
       "    }\n",
       "</style>\n",
       "<table border=\"1\" class=\"dataframe\">\n",
       "  <thead>\n",
       "    <tr style=\"text-align: right;\">\n",
       "      <th></th>\n",
       "      <th>SP500</th>\n",
       "      <th>SP500_%Change</th>\n",
       "    </tr>\n",
       "  </thead>\n",
       "  <tbody>\n",
       "    <tr>\n",
       "      <th>1995-01-04</th>\n",
       "      <td>460.71</td>\n",
       "      <td>0.348500</td>\n",
       "    </tr>\n",
       "    <tr>\n",
       "      <th>1995-01-05</th>\n",
       "      <td>460.34</td>\n",
       "      <td>-0.080311</td>\n",
       "    </tr>\n",
       "    <tr>\n",
       "      <th>1995-01-06</th>\n",
       "      <td>460.68</td>\n",
       "      <td>0.073858</td>\n",
       "    </tr>\n",
       "    <tr>\n",
       "      <th>1995-01-09</th>\n",
       "      <td>460.83</td>\n",
       "      <td>0.032561</td>\n",
       "    </tr>\n",
       "    <tr>\n",
       "      <th>1995-01-10</th>\n",
       "      <td>461.68</td>\n",
       "      <td>0.184450</td>\n",
       "    </tr>\n",
       "    <tr>\n",
       "      <th>1995-01-11</th>\n",
       "      <td>461.66</td>\n",
       "      <td>-0.004332</td>\n",
       "    </tr>\n",
       "    <tr>\n",
       "      <th>1995-01-12</th>\n",
       "      <td>461.64</td>\n",
       "      <td>-0.004332</td>\n",
       "    </tr>\n",
       "    <tr>\n",
       "      <th>1995-01-13</th>\n",
       "      <td>465.97</td>\n",
       "      <td>0.937960</td>\n",
       "    </tr>\n",
       "    <tr>\n",
       "      <th>1995-01-16</th>\n",
       "      <td>469.38</td>\n",
       "      <td>0.731807</td>\n",
       "    </tr>\n",
       "    <tr>\n",
       "      <th>1995-01-17</th>\n",
       "      <td>470.05</td>\n",
       "      <td>0.142741</td>\n",
       "    </tr>\n",
       "    <tr>\n",
       "      <th>1995-01-18</th>\n",
       "      <td>469.72</td>\n",
       "      <td>-0.070205</td>\n",
       "    </tr>\n",
       "    <tr>\n",
       "      <th>1995-01-19</th>\n",
       "      <td>466.95</td>\n",
       "      <td>-0.589713</td>\n",
       "    </tr>\n",
       "    <tr>\n",
       "      <th>1995-01-20</th>\n",
       "      <td>464.78</td>\n",
       "      <td>-0.464718</td>\n",
       "    </tr>\n",
       "    <tr>\n",
       "      <th>1995-01-23</th>\n",
       "      <td>465.81</td>\n",
       "      <td>0.221610</td>\n",
       "    </tr>\n",
       "    <tr>\n",
       "      <th>1995-01-24</th>\n",
       "      <td>465.86</td>\n",
       "      <td>0.010734</td>\n",
       "    </tr>\n",
       "    <tr>\n",
       "      <th>1995-01-25</th>\n",
       "      <td>467.44</td>\n",
       "      <td>0.339158</td>\n",
       "    </tr>\n",
       "    <tr>\n",
       "      <th>1995-01-26</th>\n",
       "      <td>468.32</td>\n",
       "      <td>0.188259</td>\n",
       "    </tr>\n",
       "    <tr>\n",
       "      <th>1995-01-27</th>\n",
       "      <td>470.39</td>\n",
       "      <td>0.442005</td>\n",
       "    </tr>\n",
       "    <tr>\n",
       "      <th>1995-01-30</th>\n",
       "      <td>468.51</td>\n",
       "      <td>-0.399668</td>\n",
       "    </tr>\n",
       "    <tr>\n",
       "      <th>1995-01-31</th>\n",
       "      <td>470.42</td>\n",
       "      <td>0.407675</td>\n",
       "    </tr>\n",
       "  </tbody>\n",
       "</table>\n",
       "</div>"
      ],
      "text/plain": [
       "             SP500  SP500_%Change\n",
       "1995-01-04  460.71       0.348500\n",
       "1995-01-05  460.34      -0.080311\n",
       "1995-01-06  460.68       0.073858\n",
       "1995-01-09  460.83       0.032561\n",
       "1995-01-10  461.68       0.184450\n",
       "1995-01-11  461.66      -0.004332\n",
       "1995-01-12  461.64      -0.004332\n",
       "1995-01-13  465.97       0.937960\n",
       "1995-01-16  469.38       0.731807\n",
       "1995-01-17  470.05       0.142741\n",
       "1995-01-18  469.72      -0.070205\n",
       "1995-01-19  466.95      -0.589713\n",
       "1995-01-20  464.78      -0.464718\n",
       "1995-01-23  465.81       0.221610\n",
       "1995-01-24  465.86       0.010734\n",
       "1995-01-25  467.44       0.339158\n",
       "1995-01-26  468.32       0.188259\n",
       "1995-01-27  470.39       0.442005\n",
       "1995-01-30  468.51      -0.399668\n",
       "1995-01-31  470.42       0.407675"
      ]
     },
     "execution_count": 99,
     "metadata": {},
     "output_type": "execute_result"
    }
   ],
   "source": [
    "#Demo dataframe for this function\n",
    "df_demo_i"
   ]
  },
  {
   "cell_type": "code",
   "execution_count": 105,
   "metadata": {},
   "outputs": [
    {
     "name": "stdout",
     "output_type": "stream",
     "text": [
      "             SP500  SP500_%Change\n",
      "1995-01-04  460.71       0.348500\n",
      "1995-01-05  460.34      -0.080311\n",
      "1995-01-06  460.68       0.073858\n",
      "1995-01-07  460.68       0.073858\n",
      "1995-01-08  460.68       0.073858\n",
      "1995-01-09  460.83       0.032561\n",
      "1995-01-10  461.68       0.184450\n",
      "1995-01-11  461.66      -0.004332\n",
      "1995-01-12  461.64      -0.004332\n",
      "1995-01-13  465.97       0.937960\n",
      "1995-01-14  465.97       0.937960\n",
      "1995-01-15  465.97       0.937960\n",
      "1995-01-16  469.38       0.731807\n",
      "1995-01-17  470.05       0.142741\n",
      "1995-01-18  469.72      -0.070205\n",
      "1995-01-19  466.95      -0.589713\n",
      "1995-01-20  464.78      -0.464718\n",
      "1995-01-21  464.78      -0.464718\n",
      "1995-01-22  464.78      -0.464718\n",
      "1995-01-23  465.81       0.221610\n",
      "1995-01-24  465.86       0.010734\n",
      "1995-01-25  467.44       0.339158\n",
      "1995-01-26  468.32       0.188259\n",
      "1995-01-27  470.39       0.442005\n",
      "1995-01-28  470.39       0.442005\n",
      "1995-01-29  470.39       0.442005\n",
      "1995-01-30  468.51      -0.399668\n",
      "1995-01-31  470.42       0.407675\n"
     ]
    }
   ],
   "source": [
    "#Daily frequency: Unlike business day, holidays will be counted in this case\n",
    "daily = df_demo_i.asfreq('D', method = 'pad')\n",
    "print(daily)"
   ]
  },
  {
   "cell_type": "code",
   "execution_count": 106,
   "metadata": {},
   "outputs": [
    {
     "name": "stdout",
     "output_type": "stream",
     "text": [
      "             SP500  SP500_%Change\n",
      "1995-01-08  460.68       0.073858\n",
      "1995-01-15  465.97       0.937960\n",
      "1995-01-22  464.78      -0.464718\n",
      "1995-01-29  470.39       0.442005\n"
     ]
    },
    {
     "data": {
      "text/plain": [
       "<matplotlib.axes._subplots.AxesSubplot at 0x1af38633908>"
      ]
     },
     "execution_count": 106,
     "metadata": {},
     "output_type": "execute_result"
    },
    {
     "data": {
      "image/png": "[encoded data removed]",
      "text/plain": [
       "<Figure size 432x288 with 1 Axes>"
      ]
     },
     "metadata": {
      "needs_background": "light"
     },
     "output_type": "display_data"
    }
   ],
   "source": [
    "#Weekly frequency\n",
    "weekly = df_demo_i.asfreq('W', method = 'pad')\n",
    "print(weekly) #Only the data located in the end of the week will be returned\n",
    "\n",
    "%matplotlib inline\n",
    "weekly.plot()"
   ]
  },
  {
   "cell_type": "code",
   "execution_count": 108,
   "metadata": {},
   "outputs": [
    {
     "name": "stdout",
     "output_type": "stream",
     "text": [
      "                      SP500  SP500_%Change\n",
      "1995-01-04 00:00:00  460.71       0.348500\n",
      "1995-01-04 01:00:00  460.71       0.348500\n",
      "1995-01-04 02:00:00  460.71       0.348500\n",
      "1995-01-04 03:00:00  460.71       0.348500\n",
      "1995-01-04 04:00:00  460.71       0.348500\n",
      "...                     ...            ...\n",
      "1995-01-30 20:00:00  468.51      -0.399668\n",
      "1995-01-30 21:00:00  468.51      -0.399668\n",
      "1995-01-30 22:00:00  468.51      -0.399668\n",
      "1995-01-30 23:00:00  468.51      -0.399668\n",
      "1995-01-31 00:00:00  470.42       0.407675\n",
      "\n",
      "[649 rows x 2 columns]\n"
     ]
    }
   ],
   "source": [
    "#Hourly\n",
    "hourly = daily.asfreq('H', method = 'pad')\n",
    "print(hourly) "
   ]
  },
  {
   "cell_type": "code",
   "execution_count": 115,
   "metadata": {},
   "outputs": [
    {
     "data": {
      "text/html": [
       "<div>\n",
       "<style scoped>\n",
       "    .dataframe tbody tr th:only-of-type {\n",
       "        vertical-align: middle;\n",
       "    }\n",
       "\n",
       "    .dataframe tbody tr th {\n",
       "        vertical-align: top;\n",
       "    }\n",
       "\n",
       "    .dataframe thead th {\n",
       "        text-align: right;\n",
       "    }\n",
       "</style>\n",
       "<table border=\"1\" class=\"dataframe\">\n",
       "  <thead>\n",
       "    <tr style=\"text-align: right;\">\n",
       "      <th></th>\n",
       "      <th>SP500</th>\n",
       "      <th>SP500_%Change</th>\n",
       "    </tr>\n",
       "  </thead>\n",
       "  <tbody>\n",
       "    <tr>\n",
       "      <th>1995-01-04</th>\n",
       "      <td>460.71</td>\n",
       "      <td>0.348500</td>\n",
       "    </tr>\n",
       "    <tr>\n",
       "      <th>1995-01-04</th>\n",
       "      <td>460.71</td>\n",
       "      <td>0.348500</td>\n",
       "    </tr>\n",
       "    <tr>\n",
       "      <th>1995-01-04</th>\n",
       "      <td>460.71</td>\n",
       "      <td>0.348500</td>\n",
       "    </tr>\n",
       "    <tr>\n",
       "      <th>1995-01-04</th>\n",
       "      <td>460.71</td>\n",
       "      <td>0.348500</td>\n",
       "    </tr>\n",
       "    <tr>\n",
       "      <th>1995-01-04</th>\n",
       "      <td>460.71</td>\n",
       "      <td>0.348500</td>\n",
       "    </tr>\n",
       "    <tr>\n",
       "      <th>...</th>\n",
       "      <td>...</td>\n",
       "      <td>...</td>\n",
       "    </tr>\n",
       "    <tr>\n",
       "      <th>1995-01-30</th>\n",
       "      <td>468.51</td>\n",
       "      <td>-0.399668</td>\n",
       "    </tr>\n",
       "    <tr>\n",
       "      <th>1995-01-30</th>\n",
       "      <td>468.51</td>\n",
       "      <td>-0.399668</td>\n",
       "    </tr>\n",
       "    <tr>\n",
       "      <th>1995-01-30</th>\n",
       "      <td>468.51</td>\n",
       "      <td>-0.399668</td>\n",
       "    </tr>\n",
       "    <tr>\n",
       "      <th>1995-01-30</th>\n",
       "      <td>468.51</td>\n",
       "      <td>-0.399668</td>\n",
       "    </tr>\n",
       "    <tr>\n",
       "      <th>1995-01-31</th>\n",
       "      <td>470.42</td>\n",
       "      <td>0.407675</td>\n",
       "    </tr>\n",
       "  </tbody>\n",
       "</table>\n",
       "<p>649 rows × 2 columns</p>\n",
       "</div>"
      ],
      "text/plain": [
       "             SP500  SP500_%Change\n",
       "1995-01-04  460.71       0.348500\n",
       "1995-01-04  460.71       0.348500\n",
       "1995-01-04  460.71       0.348500\n",
       "1995-01-04  460.71       0.348500\n",
       "1995-01-04  460.71       0.348500\n",
       "...            ...            ...\n",
       "1995-01-30  468.51      -0.399668\n",
       "1995-01-30  468.51      -0.399668\n",
       "1995-01-30  468.51      -0.399668\n",
       "1995-01-30  468.51      -0.399668\n",
       "1995-01-31  470.42       0.407675\n",
       "\n",
       "[649 rows x 2 columns]"
      ]
     },
     "execution_count": 115,
     "metadata": {},
     "output_type": "execute_result"
    }
   ],
   "source": [
    "n = daily.asfreq('H', method = 'pad', normalize = True)\n",
    "n"
   ]
  },
  {
   "cell_type": "markdown",
   "metadata": {},
   "source": [
    "More parameters for pd.date_range()"
   ]
  },
  {
   "cell_type": "code",
   "execution_count": 116,
   "metadata": {},
   "outputs": [
    {
     "data": {
      "text/plain": [
       "DatetimeIndex(['1995-01-04', '1995-01-05', '1995-01-06', '1995-01-07',\n",
       "               '1995-01-08', '1995-01-09', '1995-01-10', '1995-01-11',\n",
       "               '1995-01-12', '1995-01-13', '1995-01-14', '1995-01-15',\n",
       "               '1995-01-16', '1995-01-17', '1995-01-18', '1995-01-19',\n",
       "               '1995-01-20', '1995-01-21', '1995-01-22', '1995-01-23',\n",
       "               '1995-01-24', '1995-01-25', '1995-01-26', '1995-01-27',\n",
       "               '1995-01-28', '1995-01-29', '1995-01-30', '1995-01-31',\n",
       "               '1995-02-01'],\n",
       "              dtype='datetime64[ns]', freq='D')"
      ]
     },
     "execution_count": 116,
     "metadata": {},
     "output_type": "execute_result"
    }
   ],
   "source": [
    "#When the start and end date of the range are known\n",
    "date_range1 = pd.date_range(start = \"1995-01-04\", end = \"1995-02-01\", freq = 'D')\n",
    "date_range1"
   ]
  },
  {
   "cell_type": "code",
   "execution_count": 119,
   "metadata": {},
   "outputs": [
    {
     "data": {
      "text/plain": [
       "DatetimeIndex(['1995-01-04', '1995-01-05', '1995-01-06', '1995-01-07',\n",
       "               '1995-01-08', '1995-01-09', '1995-01-10', '1995-01-11',\n",
       "               '1995-01-12', '1995-01-13', '1995-01-14', '1995-01-15',\n",
       "               '1995-01-16', '1995-01-17', '1995-01-18', '1995-01-19',\n",
       "               '1995-01-20', '1995-01-21', '1995-01-22', '1995-01-23',\n",
       "               '1995-01-24', '1995-01-25', '1995-01-26', '1995-01-27',\n",
       "               '1995-01-28', '1995-01-29', '1995-01-30', '1995-01-31',\n",
       "               '1995-02-01', '1995-02-02', '1995-02-03', '1995-02-04'],\n",
       "              dtype='datetime64[ns]', freq='D')"
      ]
     },
     "execution_count": 119,
     "metadata": {},
     "output_type": "execute_result"
    }
   ],
   "source": [
    "#When only the start date and many of date time are known\n",
    "date_range2 = pd.date_range(start = \"1995-01-04\", periods = 32, freq = 'D') #32 days  selected strarted from begining day.\n",
    "date_range2"
   ]
  },
  {
   "cell_type": "code",
   "execution_count": 120,
   "metadata": {},
   "outputs": [
    {
     "data": {
      "text/plain": [
       "DatetimeIndex(['1995-01-04 00:00:00', '1995-01-04 01:00:00',\n",
       "               '1995-01-04 02:00:00', '1995-01-04 03:00:00',\n",
       "               '1995-01-04 04:00:00', '1995-01-04 05:00:00',\n",
       "               '1995-01-04 06:00:00', '1995-01-04 07:00:00'],\n",
       "              dtype='datetime64[ns]', freq='H')"
      ]
     },
     "execution_count": 120,
     "metadata": {},
     "output_type": "execute_result"
    }
   ],
   "source": [
    "#The first 8 hours within 1995-01-04\n",
    "date_range3 = pd.date_range(start = \"1995-01-04\", periods = 8, freq = 'H')\n",
    "date_range3"
   ]
  },
  {
   "cell_type": "code",
   "execution_count": 125,
   "metadata": {},
   "outputs": [
    {
     "data": {
      "text/plain": [
       "DatetimeIndex(['1995-01-04 07:00:00', '1995-01-04 06:00:00',\n",
       "               '1995-01-04 05:00:00', '1995-01-04 04:00:00',\n",
       "               '1995-01-04 03:00:00', '1995-01-04 02:00:00',\n",
       "               '1995-01-04 01:00:00', '1995-01-04 00:00:00'],\n",
       "              dtype='datetime64[ns]', freq='-1H')"
      ]
     },
     "execution_count": 125,
     "metadata": {},
     "output_type": "execute_result"
    }
   ],
   "source": [
    "#Inverse order of date time range\n",
    "date_range_inverse = pd.date_range(start = \"1995-01-04\", periods = 8, freq = 'H')[::-1]\n",
    "date_range_inverse"
   ]
  },
  {
   "cell_type": "code",
   "execution_count": 124,
   "metadata": {},
   "outputs": [
    {
     "name": "stdout",
     "output_type": "stream",
     "text": [
      "[14  9 13 20 49 89 60 24]\n",
      "1995-01-04 00:00:00    14\n",
      "1995-01-04 01:00:00     9\n",
      "1995-01-04 02:00:00    13\n",
      "1995-01-04 03:00:00    20\n",
      "1995-01-04 04:00:00    49\n",
      "1995-01-04 05:00:00    89\n",
      "1995-01-04 06:00:00    60\n",
      "1995-01-04 07:00:00    24\n",
      "Freq: H, dtype: int32\n"
     ]
    }
   ],
   "source": [
    "#Generate the random time series data\n",
    "import numpy as np\n",
    "rnd = np.random.randint(3, 103, 8) #generate 8 random numbers from 3 to 103\n",
    "print(rnd)\n",
    "\n",
    "rand_df = pd.Series(rnd, index = date_range3)\n",
    "print(rand_df)"
   ]
  }
 ],
 "metadata": {
  "kernelspec": {
   "display_name": "Python 3",
   "language": "python",
   "name": "python3"
  },
  "language_info": {
   "codemirror_mode": {
    "name": "ipython",
    "version": 3
   },
   "file_extension": ".py",
   "mimetype": "text/x-python",
   "name": "python",
   "nbconvert_exporter": "python",
   "pygments_lexer": "ipython3",
   "version": "3.7.6"
  }
 },
 "nbformat": 4,
 "nbformat_minor": 4
}
