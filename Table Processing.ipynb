{
 "cells": [
  {
   "cell_type": "code",
   "execution_count": 1,
   "metadata": {},
   "outputs": [],
   "source": [
    "import pandas as pd\n",
    "import numpy as np"
   ]
  },
  {
   "cell_type": "code",
   "execution_count": 17,
   "metadata": {},
   "outputs": [],
   "source": [
    "from dateutil.parser import parse"
   ]
  },
  {
   "cell_type": "code",
   "execution_count": 41,
   "metadata": {},
   "outputs": [
    {
     "name": "stdout",
     "output_type": "stream",
     "text": [
      "['2020-12-11', '2020-12-12', '2020-12-13', '2020-12-11', '2020-12-12', '2020-12-13', '2020-12-11', '2020-12-12', '2020-12-13']\n",
      "<class 'list'>\n"
     ]
    }
   ],
   "source": [
    "#Create a new date column\n",
    "date_str = ['2020-12-11', '2020-12-12', '2020-12-13', \n",
    "            '2020-12-11', '2020-12-12', '2020-12-13', \n",
    "            '2020-12-11', '2020-12-12', '2020-12-13']\n",
    "#A new list where transformation/parse from str to date format can be operated\n",
    "new_date = [parse(d) for d in date_str]\n",
    "#Transform date string into date format in '%Y-%M-%D' (still be the string in data type)\n",
    "date = [d.strftime('%Y-%m-%d') for d in new_date]\n",
    "print(date)\n",
    "print(type(date))"
   ]
  },
  {
   "cell_type": "code",
   "execution_count": 42,
   "metadata": {},
   "outputs": [],
   "source": [
    "df = pd.DataFrame({'Date': date,\n",
    "        \n",
    "                   'City':['New York', 'New York', 'New York', \n",
    "                           'Mumbai', 'Mumbai', 'Mumbai', \n",
    "                           'Beijing', 'Beijing', 'Beijing'],\n",
    "                   \n",
    "                   'Temperature':[65, 66, 68, 75, 78, 82, 80, 77, 79],\n",
    "                   'Humidity':[56, 58, 60, 80, 83, 85, 50, 40, 35]\n",
    "                   \n",
    "})"
   ]
  },
  {
   "cell_type": "code",
   "execution_count": 43,
   "metadata": {},
   "outputs": [
    {
     "data": {
      "text/html": [
       "<div>\n",
       "<style scoped>\n",
       "    .dataframe tbody tr th:only-of-type {\n",
       "        vertical-align: middle;\n",
       "    }\n",
       "\n",
       "    .dataframe tbody tr th {\n",
       "        vertical-align: top;\n",
       "    }\n",
       "\n",
       "    .dataframe thead th {\n",
       "        text-align: right;\n",
       "    }\n",
       "</style>\n",
       "<table border=\"1\" class=\"dataframe\">\n",
       "  <thead>\n",
       "    <tr style=\"text-align: right;\">\n",
       "      <th></th>\n",
       "      <th>Date</th>\n",
       "      <th>City</th>\n",
       "      <th>Temperature</th>\n",
       "      <th>Humidity</th>\n",
       "    </tr>\n",
       "  </thead>\n",
       "  <tbody>\n",
       "    <tr>\n",
       "      <th>0</th>\n",
       "      <td>2020-12-11</td>\n",
       "      <td>New York</td>\n",
       "      <td>65</td>\n",
       "      <td>56</td>\n",
       "    </tr>\n",
       "    <tr>\n",
       "      <th>1</th>\n",
       "      <td>2020-12-12</td>\n",
       "      <td>New York</td>\n",
       "      <td>66</td>\n",
       "      <td>58</td>\n",
       "    </tr>\n",
       "    <tr>\n",
       "      <th>2</th>\n",
       "      <td>2020-12-13</td>\n",
       "      <td>New York</td>\n",
       "      <td>68</td>\n",
       "      <td>60</td>\n",
       "    </tr>\n",
       "    <tr>\n",
       "      <th>3</th>\n",
       "      <td>2020-12-11</td>\n",
       "      <td>Mumbai</td>\n",
       "      <td>75</td>\n",
       "      <td>80</td>\n",
       "    </tr>\n",
       "    <tr>\n",
       "      <th>4</th>\n",
       "      <td>2020-12-12</td>\n",
       "      <td>Mumbai</td>\n",
       "      <td>78</td>\n",
       "      <td>83</td>\n",
       "    </tr>\n",
       "    <tr>\n",
       "      <th>5</th>\n",
       "      <td>2020-12-13</td>\n",
       "      <td>Mumbai</td>\n",
       "      <td>82</td>\n",
       "      <td>85</td>\n",
       "    </tr>\n",
       "    <tr>\n",
       "      <th>6</th>\n",
       "      <td>2020-12-11</td>\n",
       "      <td>Beijing</td>\n",
       "      <td>80</td>\n",
       "      <td>50</td>\n",
       "    </tr>\n",
       "    <tr>\n",
       "      <th>7</th>\n",
       "      <td>2020-12-12</td>\n",
       "      <td>Beijing</td>\n",
       "      <td>77</td>\n",
       "      <td>40</td>\n",
       "    </tr>\n",
       "    <tr>\n",
       "      <th>8</th>\n",
       "      <td>2020-12-13</td>\n",
       "      <td>Beijing</td>\n",
       "      <td>79</td>\n",
       "      <td>35</td>\n",
       "    </tr>\n",
       "  </tbody>\n",
       "</table>\n",
       "</div>"
      ],
      "text/plain": [
       "         Date      City  Temperature  Humidity\n",
       "0  2020-12-11  New York           65        56\n",
       "1  2020-12-12  New York           66        58\n",
       "2  2020-12-13  New York           68        60\n",
       "3  2020-12-11    Mumbai           75        80\n",
       "4  2020-12-12    Mumbai           78        83\n",
       "5  2020-12-13    Mumbai           82        85\n",
       "6  2020-12-11   Beijing           80        50\n",
       "7  2020-12-12   Beijing           77        40\n",
       "8  2020-12-13   Beijing           79        35"
      ]
     },
     "execution_count": 43,
     "metadata": {},
     "output_type": "execute_result"
    }
   ],
   "source": [
    "df"
   ]
  },
  {
   "cell_type": "markdown",
   "metadata": {},
   "source": [
    "# pivot function"
   ]
  },
  {
   "cell_type": "code",
   "execution_count": 51,
   "metadata": {},
   "outputs": [
    {
     "name": "stdout",
     "output_type": "stream",
     "text": [
      "City        Beijing  Mumbai  New York\n",
      "Date                                 \n",
      "2020-12-11       80      75        65\n",
      "2020-12-12       77      78        66\n",
      "2020-12-13       79      82        68\n",
      "           Temperature                 Humidity                \n",
      "City           Beijing Mumbai New York  Beijing Mumbai New York\n",
      "Date                                                           \n",
      "2020-12-11          80     75       65       50     80       56\n",
      "2020-12-12          77     78       66       40     83       58\n",
      "2020-12-13          79     82       68       35     85       60\n"
     ]
    }
   ],
   "source": [
    "# Pivot function\n",
    "# Aim to analyse: At what day (as index), which city (in column) has what temperature (value).\n",
    "df_p = df.pivot(index = 'Date', columns = 'City', values = 'Temperature')\n",
    "print(df_p)\n",
    "df_p = df.pivot(index = 'Date', columns = 'City', values = ['Temperature', 'Humidity'])\n",
    "print(df_p)"
   ]
  },
  {
   "cell_type": "markdown",
   "metadata": {},
   "source": [
    "# pivot_table function"
   ]
  },
  {
   "cell_type": "code",
   "execution_count": 61,
   "metadata": {},
   "outputs": [
    {
     "data": {
      "text/html": [
       "<div>\n",
       "<style scoped>\n",
       "    .dataframe tbody tr th:only-of-type {\n",
       "        vertical-align: middle;\n",
       "    }\n",
       "\n",
       "    .dataframe tbody tr th {\n",
       "        vertical-align: top;\n",
       "    }\n",
       "\n",
       "    .dataframe thead th {\n",
       "        text-align: right;\n",
       "    }\n",
       "</style>\n",
       "<table border=\"1\" class=\"dataframe\">\n",
       "  <thead>\n",
       "    <tr style=\"text-align: right;\">\n",
       "      <th></th>\n",
       "      <th>Date</th>\n",
       "      <th>City</th>\n",
       "      <th>Temperature</th>\n",
       "      <th>Humidity</th>\n",
       "    </tr>\n",
       "  </thead>\n",
       "  <tbody>\n",
       "    <tr>\n",
       "      <th>0</th>\n",
       "      <td>2020-05-01</td>\n",
       "      <td>New York</td>\n",
       "      <td>65</td>\n",
       "      <td>56</td>\n",
       "    </tr>\n",
       "    <tr>\n",
       "      <th>1</th>\n",
       "      <td>2020-05-01</td>\n",
       "      <td>New York</td>\n",
       "      <td>61</td>\n",
       "      <td>54</td>\n",
       "    </tr>\n",
       "    <tr>\n",
       "      <th>2</th>\n",
       "      <td>2020-05-02</td>\n",
       "      <td>New York</td>\n",
       "      <td>70</td>\n",
       "      <td>60</td>\n",
       "    </tr>\n",
       "    <tr>\n",
       "      <th>3</th>\n",
       "      <td>2020-05-02</td>\n",
       "      <td>New York</td>\n",
       "      <td>72</td>\n",
       "      <td>66</td>\n",
       "    </tr>\n",
       "    <tr>\n",
       "      <th>4</th>\n",
       "      <td>2020-05-01</td>\n",
       "      <td>Mumbai</td>\n",
       "      <td>75</td>\n",
       "      <td>80</td>\n",
       "    </tr>\n",
       "    <tr>\n",
       "      <th>5</th>\n",
       "      <td>2020-05-01</td>\n",
       "      <td>Mumbai</td>\n",
       "      <td>78</td>\n",
       "      <td>82</td>\n",
       "    </tr>\n",
       "    <tr>\n",
       "      <th>6</th>\n",
       "      <td>2020-05-02</td>\n",
       "      <td>Mumbai</td>\n",
       "      <td>82</td>\n",
       "      <td>85</td>\n",
       "    </tr>\n",
       "    <tr>\n",
       "      <th>7</th>\n",
       "      <td>2020-05-02</td>\n",
       "      <td>Mumbai</td>\n",
       "      <td>80</td>\n",
       "      <td>78</td>\n",
       "    </tr>\n",
       "  </tbody>\n",
       "</table>\n",
       "</div>"
      ],
      "text/plain": [
       "         Date      City  Temperature  Humidity\n",
       "0  2020-05-01  New York           65        56\n",
       "1  2020-05-01  New York           61        54\n",
       "2  2020-05-02  New York           70        60\n",
       "3  2020-05-02  New York           72        66\n",
       "4  2020-05-01    Mumbai           75        80\n",
       "5  2020-05-01    Mumbai           78        82\n",
       "6  2020-05-02    Mumbai           82        85\n",
       "7  2020-05-02    Mumbai           80        78"
      ]
     },
     "execution_count": 61,
     "metadata": {},
     "output_type": "execute_result"
    }
   ],
   "source": [
    "#Create a new datafrmae that suits the use of pivot table function\n",
    "# Create Date column\n",
    "date_str2 = ['2020-05-01', '2020-05-01', '2020-05-02', '2020-05-02', # partial date string for New York\n",
    "           '2020-05-01', '2020-05-01', '2020-05-02', '2020-05-02'] # partial date string for Mumbai\n",
    "new_date = [parse(d) for d in date_str2]\n",
    "date_date_time = [d.strftime('%Y-%m-%d') for d in new_date]\n",
    "\n",
    "# Create new data frame with date time column we've just set.\n",
    "df2 = pd.DataFrame({'Date':date_date_time,\n",
    "                    \n",
    "                    'City':['New York', 'New York', 'New York', 'New York',\n",
    "                            'Mumbai', 'Mumbai', 'Mumbai', 'Mumbai'],\n",
    "                    \n",
    "                    'Temperature':[65, 61, 70, 72,\n",
    "                                  75, 78, 82, 80],\n",
    "                    \n",
    "                    'Humidity':[56, 54, 60, 66,\n",
    "                               80, 82, 85, 78]\n",
    "})\n",
    "\n",
    "df2"
   ]
  },
  {
   "cell_type": "code",
   "execution_count": 64,
   "metadata": {},
   "outputs": [
    {
     "name": "stdout",
     "output_type": "stream",
     "text": [
      "           Humidity          Temperature         \n",
      "City         Mumbai New York      Mumbai New York\n",
      "Date                                             \n",
      "2020-05-01     81.0     55.0        76.5     63.0\n",
      "2020-05-02     81.5     63.0        81.0     71.0\n",
      "           Humidity            Temperature           \n",
      "Date     2020-05-01 2020-05-02  2020-05-01 2020-05-02\n",
      "City                                                 \n",
      "Mumbai         81.0       81.5        76.5       81.0\n",
      "New York       55.0       63.0        63.0       71.0\n"
     ]
    }
   ],
   "source": [
    "# Use pivot_table function to aggreate data sorted by pivot-based table transformation.\n",
    "df_pt = df2.pivot_table(index = 'Date', columns = 'City', aggfunc = np.mean)\n",
    "print(df_pt)\n",
    "\n",
    "df_pt = df2.pivot_table(index = 'City', columns = 'Date', aggfunc = np.mean)\n",
    "print(df_pt)"
   ]
  },
  {
   "cell_type": "code",
   "execution_count": 69,
   "metadata": {},
   "outputs": [
    {
     "name": "stdout",
     "output_type": "stream",
     "text": [
      "Pivot table: Temperature aggregation by mean\n",
      "Date      2020-05-01  2020-05-02\n",
      "City                            \n",
      "Mumbai          76.5        81.0\n",
      "New York        63.0        71.0\n",
      "           Humidity                    Temperature                   \n",
      "Date     2020-05-01 2020-05-02     All  2020-05-01 2020-05-02     All\n",
      "City                                                                 \n",
      "Mumbai         81.0      81.50  81.250       76.50       81.0  78.750\n",
      "New York       55.0      63.00  59.000       63.00       71.0  67.000\n",
      "All            68.0      72.25  70.125       69.75       76.0  72.875\n"
     ]
    }
   ],
   "source": [
    "# Using values can also assign column to aggregate\n",
    "df_pt = df2.pivot_table(index = 'City', columns = 'Date', values = 'Temperature', aggfunc = np.mean)\n",
    "print('Pivot table: Temperature aggregation by mean')\n",
    "print(df_pt) # Shows only the result of Temperature\n",
    "\n",
    "#Add margins = True to sum the pivot rows up (See 'ALL' column added to the resulting pivot table)\n",
    "df_pt = df2.pivot_table(index = 'City', columns = 'Date', values = ['Temperature', 'Humidity'], \n",
    "                       aggfunc = np.mean, margins = True)\n",
    "print(df_pt)"
   ]
  },
  {
   "cell_type": "markdown",
   "metadata": {},
   "source": [
    "# Explore and maipulate pivot tables"
   ]
  },
  {
   "cell_type": "code",
   "execution_count": 75,
   "metadata": {},
   "outputs": [
    {
     "name": "stdout",
     "output_type": "stream",
     "text": [
      "Length of pivot table aggregated 3\n",
      "Index ['Mumbai' 'New York' 'All']\n",
      "Assign the exact position of index Mumbai\n"
     ]
    }
   ],
   "source": [
    "print('Length of pivot table aggregated', len(df_pt)) \n",
    "print('Index:', df_pt.index.values) #Use the df.index.values to identify list of index \n",
    "print('Assign the exact position of index:', df_pt.index[0]) # Assign the posisition to pick up index\n",
    "#calculate = df_pt.inde"
   ]
  },
  {
   "cell_type": "code",
   "execution_count": 81,
   "metadata": {},
   "outputs": [
    {
     "name": "stdout",
     "output_type": "stream",
     "text": [
      "[('Humidity', '2020-05-01') ('Humidity', '2020-05-02') ('Humidity', 'All')\n",
      " ('Temperature', '2020-05-01') ('Temperature', '2020-05-02')\n",
      " ('Temperature', 'All')]\n",
      "('Humidity', '2020-05-01')\n",
      "81.0\n"
     ]
    }
   ],
   "source": [
    "print(df_pt.columns.values) #The column names are kept in tuples\n",
    "print(df_pt.columns.values[0]) # An one single column name positioned in first column\n",
    "print('The element in first column and first rows', df_pt.iloc[0, 0])"
   ]
  },
  {
   "cell_type": "markdown",
   "metadata": {},
   "source": [
    "# Showing the aggregated value at the end date of the month (or similar)"
   ]
  },
  {
   "cell_type": "markdown",
   "metadata": {},
   "source": [
    "Applying pandas.Grouper() in pivot_table() function to group the data following index, so that we can sort and aggregate the table with it."
   ]
  },
  {
   "cell_type": "code",
   "execution_count": 82,
   "metadata": {},
   "outputs": [
    {
     "data": {
      "text/html": [
       "<div>\n",
       "<style scoped>\n",
       "    .dataframe tbody tr th:only-of-type {\n",
       "        vertical-align: middle;\n",
       "    }\n",
       "\n",
       "    .dataframe tbody tr th {\n",
       "        vertical-align: top;\n",
       "    }\n",
       "\n",
       "    .dataframe thead th {\n",
       "        text-align: right;\n",
       "    }\n",
       "</style>\n",
       "<table border=\"1\" class=\"dataframe\">\n",
       "  <thead>\n",
       "    <tr style=\"text-align: right;\">\n",
       "      <th></th>\n",
       "      <th>Date</th>\n",
       "      <th>City</th>\n",
       "      <th>Temperature</th>\n",
       "      <th>Humidity</th>\n",
       "    </tr>\n",
       "  </thead>\n",
       "  <tbody>\n",
       "    <tr>\n",
       "      <th>0</th>\n",
       "      <td>2020-05-01</td>\n",
       "      <td>New York</td>\n",
       "      <td>65</td>\n",
       "      <td>56</td>\n",
       "    </tr>\n",
       "    <tr>\n",
       "      <th>1</th>\n",
       "      <td>2020-05-02</td>\n",
       "      <td>New York</td>\n",
       "      <td>61</td>\n",
       "      <td>54</td>\n",
       "    </tr>\n",
       "    <tr>\n",
       "      <th>2</th>\n",
       "      <td>2020-05-03</td>\n",
       "      <td>New York</td>\n",
       "      <td>70</td>\n",
       "      <td>59</td>\n",
       "    </tr>\n",
       "    <tr>\n",
       "      <th>3</th>\n",
       "      <td>2020-12-20</td>\n",
       "      <td>New York</td>\n",
       "      <td>35</td>\n",
       "      <td>64</td>\n",
       "    </tr>\n",
       "    <tr>\n",
       "      <th>4</th>\n",
       "      <td>2020-12-21</td>\n",
       "      <td>New York</td>\n",
       "      <td>28</td>\n",
       "      <td>62</td>\n",
       "    </tr>\n",
       "    <tr>\n",
       "      <th>5</th>\n",
       "      <td>2020-12-22</td>\n",
       "      <td>New York</td>\n",
       "      <td>18</td>\n",
       "      <td>56</td>\n",
       "    </tr>\n",
       "  </tbody>\n",
       "</table>\n",
       "</div>"
      ],
      "text/plain": [
       "         Date      City  Temperature  Humidity\n",
       "0  2020-05-01  New York           65        56\n",
       "1  2020-05-02  New York           61        54\n",
       "2  2020-05-03  New York           70        59\n",
       "3  2020-12-20  New York           35        64\n",
       "4  2020-12-21  New York           28        62\n",
       "5  2020-12-22  New York           18        56"
      ]
     },
     "execution_count": 82,
     "metadata": {},
     "output_type": "execute_result"
    }
   ],
   "source": [
    "# Create dataset\n",
    "date_str3 = ['2020-05-01', '2020-05-02', '2020-05-03', #First month\n",
    "           '2020-12-20', '2020-12-21', '2020-12-22']\n",
    "new_date = [parse(d) for d in date_str3]\n",
    "date_date_time = [d.strftime('%Y-%m-%d') for d in new_date]\n",
    "\n",
    "# Focusing on one city, with different values in more than a month\n",
    "df3 = pd.DataFrame({'Date':date_date_time,\n",
    "                    'City':['New York', 'New York', 'New York',\n",
    "                           'New York', 'New York', 'New York'],\n",
    "                    'Temperature':[65, 61, 70,\n",
    "                                  35, 28, 18],\n",
    "                    'Humidity':[56, 54, 59,\n",
    "                               64, 62, 56]\n",
    "    \n",
    "})\n",
    "df3"
   ]
  },
  {
   "cell_type": "code",
   "execution_count": 88,
   "metadata": {},
   "outputs": [
    {
     "data": {
      "text/html": [
       "<div>\n",
       "<style scoped>\n",
       "    .dataframe tbody tr th:only-of-type {\n",
       "        vertical-align: middle;\n",
       "    }\n",
       "\n",
       "    .dataframe tbody tr th {\n",
       "        vertical-align: top;\n",
       "    }\n",
       "\n",
       "    .dataframe thead tr th {\n",
       "        text-align: left;\n",
       "    }\n",
       "\n",
       "    .dataframe thead tr:last-of-type th {\n",
       "        text-align: right;\n",
       "    }\n",
       "</style>\n",
       "<table border=\"1\" class=\"dataframe\">\n",
       "  <thead>\n",
       "    <tr>\n",
       "      <th></th>\n",
       "      <th>Humidity</th>\n",
       "      <th>Temperature</th>\n",
       "    </tr>\n",
       "    <tr>\n",
       "      <th>City</th>\n",
       "      <th>New York</th>\n",
       "      <th>New York</th>\n",
       "    </tr>\n",
       "    <tr>\n",
       "      <th>Date</th>\n",
       "      <th></th>\n",
       "      <th></th>\n",
       "    </tr>\n",
       "  </thead>\n",
       "  <tbody>\n",
       "    <tr>\n",
       "      <th>2020-05-31</th>\n",
       "      <td>56</td>\n",
       "      <td>65</td>\n",
       "    </tr>\n",
       "    <tr>\n",
       "      <th>2020-12-31</th>\n",
       "      <td>62</td>\n",
       "      <td>28</td>\n",
       "    </tr>\n",
       "  </tbody>\n",
       "</table>\n",
       "</div>"
      ],
      "text/plain": [
       "           Humidity Temperature\n",
       "City       New York    New York\n",
       "Date                           \n",
       "2020-05-31       56          65\n",
       "2020-12-31       62          28"
      ]
     },
     "execution_count": 88,
     "metadata": {},
     "output_type": "execute_result"
    }
   ],
   "source": [
    "#When apply pd.Grouper, the key passed to it should always be datetime Index or period index.\n",
    "df3['Date'] = pd.to_datetime(df3['Date'])\n",
    "\n",
    "df_pt_grouper = df3.pivot_table(index = pd.Grouper(freq = 'M', key = 'Date', axis = 0), \n",
    "                                columns = ['City'], values = ['Temperature', 'Humidity'], \n",
    "                                aggfunc = np.median)\n",
    "df_pt_grouper"
   ]
  },
  {
   "cell_type": "code",
   "execution_count": null,
   "metadata": {},
   "outputs": [],
   "source": []
  },
  {
   "cell_type": "code",
   "execution_count": null,
   "metadata": {},
   "outputs": [],
   "source": []
  },
  {
   "cell_type": "code",
   "execution_count": null,
   "metadata": {},
   "outputs": [],
   "source": []
  },
  {
   "cell_type": "code",
   "execution_count": 15,
   "metadata": {},
   "outputs": [
    {
     "name": "stdout",
     "output_type": "stream",
     "text": [
      "[Timestamp('2020-12-10 00:00:00', freq='D'), Timestamp('2020-12-11 00:00:00', freq='D'), Timestamp('2020-12-12 00:00:00', freq='D'), Timestamp('2020-12-13 00:00:00', freq='D')]\n"
     ]
    }
   ],
   "source": [
    "a = pd.date_range(start = '2020-12-10', end = '2020-12-13').to_list()\n",
    "print(a)"
   ]
  },
  {
   "cell_type": "code",
   "execution_count": 18,
   "metadata": {},
   "outputs": [
    {
     "name": "stdout",
     "output_type": "stream",
     "text": [
      "[Timestamp('2020-12-10 00:00:00', freq='D'), Timestamp('2020-12-11 00:00:00', freq='D'), Timestamp('2020-12-12 00:00:00', freq='D'), Timestamp('2020-12-13 00:00:00', freq='D')]\n"
     ]
    }
   ],
   "source": [
    "a = pd.date_range(start = '2020-12-10', end = '2020-12-13')\n",
    "print(list(a))"
   ]
  },
  {
   "cell_type": "code",
   "execution_count": 35,
   "metadata": {},
   "outputs": [
    {
     "name": "stdout",
     "output_type": "stream",
     "text": [
      "<class 'list'>\n",
      "['New York', 'New York', 'New York', 'Mumbai', 'Mumbai', 'Mumbai', 'Beijing', 'Beijing', 'Beijing']\n"
     ]
    }
   ],
   "source": [
    "City = ['New York', 'New York', 'New York', \n",
    "                           'Mumbai', 'Mumbai', 'Mumbai', \n",
    "                           'Beijing', 'Beijing', 'Beijing']\n",
    "print(type(City))\n",
    "print(City)"
   ]
  },
  {
   "cell_type": "code",
   "execution_count": null,
   "metadata": {},
   "outputs": [],
   "source": []
  }
 ],
 "metadata": {
  "kernelspec": {
   "display_name": "Python 3",
   "language": "python",
   "name": "python3"
  },
  "language_info": {
   "codemirror_mode": {
    "name": "ipython",
    "version": 3
   },
   "file_extension": ".py",
   "mimetype": "text/x-python",
   "name": "python",
   "nbconvert_exporter": "python",
   "pygments_lexer": "ipython3",
   "version": "3.7.6"
  }
 },
 "nbformat": 4,
 "nbformat_minor": 4
}
