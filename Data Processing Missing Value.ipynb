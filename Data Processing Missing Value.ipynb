{
 "cells": [
  {
   "cell_type": "code",
   "execution_count": 24,
   "metadata": {},
   "outputs": [],
   "source": [
    "import pandas as pd\n",
    "import random\n",
    "import numpy as np"
   ]
  },
  {
   "cell_type": "code",
   "execution_count": 30,
   "metadata": {},
   "outputs": [
    {
     "name": "stdout",
     "output_type": "stream",
     "text": [
      "        Date  temperature  wind speed   event\n",
      "0 2020-01-01           32           6   Sunny\n",
      "1 2020-01-02           25           7   Windy\n",
      "2 2020-01-03           28           2  Cloudy\n"
     ]
    }
   ],
   "source": [
    "df = pd.DataFrame({'Date': pd.date_range('01-01-2020', '01-03-2020'),\n",
    "                  'temperature': [32, 25, 28],\n",
    "                  'wind speed': [6, 7, 2],\n",
    "                  'event': ['Sunny', 'Windy', 'Cloudy']\n",
    "                  })\n",
    "print(df)"
   ]
  },
  {
   "cell_type": "code",
   "execution_count": 23,
   "metadata": {},
   "outputs": [],
   "source": [
    "df.to_csv('C:\\\\Users\\\\ASUS\\\\Desktop\\\\code_practice\\\\Data_Processing.csv', sep = ',', index = False)"
   ]
  },
  {
   "cell_type": "code",
   "execution_count": 18,
   "metadata": {},
   "outputs": [
    {
     "name": "stdout",
     "output_type": "stream",
     "text": [
      "8\n",
      "[2, 1]\n",
      "['a', 'l', 't', 'i', 'e', 'v', 'g', 'y', 'f', 'q', 'x', 'c', 'w', 'n', 'j', 'u', 'p', 'k', 'r']\n"
     ]
    }
   ],
   "source": [
    "r = random.randint(1, 10)\n",
    "print(r)\n",
    "\n",
    "r2 = random.sample(range(0, 30), k = 2)\n",
    "print(r2)\n",
    "\n",
    "Col_3 = random.sample('abcdefghijklmnopqrstuvwxyz', k = 19)\n",
    "print(Col_3)"
   ]
  },
  {
   "cell_type": "code",
   "execution_count": 34,
   "metadata": {},
   "outputs": [
    {
     "data": {
      "text/html": [
       "<div>\n",
       "<style scoped>\n",
       "    .dataframe tbody tr th:only-of-type {\n",
       "        vertical-align: middle;\n",
       "    }\n",
       "\n",
       "    .dataframe tbody tr th {\n",
       "        vertical-align: top;\n",
       "    }\n",
       "\n",
       "    .dataframe thead th {\n",
       "        text-align: right;\n",
       "    }\n",
       "</style>\n",
       "<table border=\"1\" class=\"dataframe\">\n",
       "  <thead>\n",
       "    <tr style=\"text-align: right;\">\n",
       "      <th></th>\n",
       "      <th>Date</th>\n",
       "      <th>temperature</th>\n",
       "      <th>wind speed</th>\n",
       "      <th>event</th>\n",
       "    </tr>\n",
       "  </thead>\n",
       "  <tbody>\n",
       "    <tr>\n",
       "      <th>0</th>\n",
       "      <td>2020-01-01</td>\n",
       "      <td>32.0</td>\n",
       "      <td>6.0</td>\n",
       "      <td>Sunny</td>\n",
       "    </tr>\n",
       "    <tr>\n",
       "      <th>1</th>\n",
       "      <td>2020-01-02</td>\n",
       "      <td>25.0</td>\n",
       "      <td>7.0</td>\n",
       "      <td>Windy</td>\n",
       "    </tr>\n",
       "    <tr>\n",
       "      <th>2</th>\n",
       "      <td>2020-01-03</td>\n",
       "      <td>28.0</td>\n",
       "      <td>2.0</td>\n",
       "      <td>Cloudy</td>\n",
       "    </tr>\n",
       "    <tr>\n",
       "      <th>3</th>\n",
       "      <td>2020-01-04</td>\n",
       "      <td>NaN</td>\n",
       "      <td>9.0</td>\n",
       "      <td>NaN</td>\n",
       "    </tr>\n",
       "    <tr>\n",
       "      <th>4</th>\n",
       "      <td>2020-01-05</td>\n",
       "      <td>29.0</td>\n",
       "      <td>NaN</td>\n",
       "      <td>Rainy</td>\n",
       "    </tr>\n",
       "    <tr>\n",
       "      <th>5</th>\n",
       "      <td>2020-01-06</td>\n",
       "      <td>27.0</td>\n",
       "      <td>NaN</td>\n",
       "      <td>Sunny</td>\n",
       "    </tr>\n",
       "    <tr>\n",
       "      <th>6</th>\n",
       "      <td>2020-01-07</td>\n",
       "      <td>NaN</td>\n",
       "      <td>11.0</td>\n",
       "      <td>Windy</td>\n",
       "    </tr>\n",
       "    <tr>\n",
       "      <th>7</th>\n",
       "      <td>2020-01-08</td>\n",
       "      <td>NaN</td>\n",
       "      <td>16.0</td>\n",
       "      <td>NaN</td>\n",
       "    </tr>\n",
       "    <tr>\n",
       "      <th>8</th>\n",
       "      <td>2020-01-09</td>\n",
       "      <td>26.0</td>\n",
       "      <td>NaN</td>\n",
       "      <td>Windy</td>\n",
       "    </tr>\n",
       "  </tbody>\n",
       "</table>\n",
       "</div>"
      ],
      "text/plain": [
       "        Date  temperature  wind speed   event\n",
       "0 2020-01-01         32.0         6.0   Sunny\n",
       "1 2020-01-02         25.0         7.0   Windy\n",
       "2 2020-01-03         28.0         2.0  Cloudy\n",
       "3 2020-01-04          NaN         9.0     NaN\n",
       "4 2020-01-05         29.0         NaN   Rainy\n",
       "5 2020-01-06         27.0         NaN   Sunny\n",
       "6 2020-01-07          NaN        11.0   Windy\n",
       "7 2020-01-08          NaN        16.0     NaN\n",
       "8 2020-01-09         26.0         NaN   Windy"
      ]
     },
     "execution_count": 34,
     "metadata": {},
     "output_type": "execute_result"
    }
   ],
   "source": [
    "#Read the df which is re-modified manually after being created.\n",
    "df_new = pd.read_csv('Data_Processing.csv', parse_dates = ['Date']) #Using parse_dates to translate it (str) to date time index\n",
    "df_new"
   ]
  },
  {
   "cell_type": "code",
   "execution_count": null,
   "metadata": {},
   "outputs": [],
   "source": [
    "print(type(df_new['Date']))"
   ]
  },
  {
   "cell_type": "markdown",
   "metadata": {},
   "source": [
    "# fillna"
   ]
  },
  {
   "cell_type": "code",
   "execution_count": 8,
   "metadata": {},
   "outputs": [
    {
     "name": "stdout",
     "output_type": "stream",
     "text": [
      "        Date  temperature  wind speed   event\n",
      "0 2020-01-01         32.0         6.0   Sunny\n",
      "1 2020-01-02         25.0         7.0   Windy\n",
      "2 2020-01-03         28.0         2.0  Cloudy\n",
      "3 2020-01-04         28.0         9.0  Cloudy\n",
      "4 2020-01-05         29.0         9.0   Rainy\n",
      "5 2020-01-06         27.0         9.0   Sunny\n",
      "6 2020-01-07         27.0        11.0   Windy\n",
      "7 2020-01-08         27.0        16.0   Windy\n",
      "8 2020-01-09         26.0        16.0   Windy\n",
      "        Date  temperature  wind speed   event\n",
      "0 2020-01-01         32.0         6.0   Sunny\n",
      "1 2020-01-02         25.0         7.0   Windy\n",
      "2 2020-01-03         28.0         2.0  Cloudy\n",
      "3 2020-01-04         29.0         9.0   Rainy\n",
      "4 2020-01-05         29.0        11.0   Rainy\n",
      "5 2020-01-06         27.0        11.0   Sunny\n",
      "6 2020-01-07         26.0        11.0   Windy\n",
      "7 2020-01-08         26.0        16.0   Windy\n",
      "8 2020-01-09         26.0         NaN   Windy\n"
     ]
    }
   ],
   "source": [
    "#Fill the missing value by the value previous to the missing place\n",
    "df_ffill = df_new.fillna(method = 'ffill')\n",
    "print(df_ffill)\n",
    "\n",
    "# Fill by value next to the missing place\n",
    "df_bfill = df_new.fillna(method = 'bfill')\n",
    "print(df_bfill)"
   ]
  },
  {
   "cell_type": "code",
   "execution_count": 26,
   "metadata": {},
   "outputs": [
    {
     "name": "stdout",
     "output_type": "stream",
     "text": [
      "        Date  temperature  wind speed   event\n",
      "0 2020-01-01         32.0         6.0   Sunny\n",
      "1 2020-01-02         25.0         7.0   Windy\n",
      "2 2020-01-03         28.0         2.0  Cloudy\n",
      "3 2020-01-04         10.0         9.0   Sunny\n",
      "4 2020-01-05         29.0         6.0   Rainy\n",
      "5 2020-01-06         27.0         6.0   Sunny\n",
      "6 2020-01-07         10.0        11.0   Windy\n",
      "7 2020-01-08         10.0        16.0   Sunny\n",
      "8 2020-01-09         26.0         6.0   Windy\n",
      "        Date  temperature  wind speed   event\n",
      "0 2020-01-01    32.000000         6.0   Sunny\n",
      "1 2020-01-02    25.000000         7.0   Windy\n",
      "2 2020-01-03    28.000000         2.0  Cloudy\n",
      "3 2020-01-04    27.833333         9.0   Windy\n",
      "4 2020-01-05    29.000000         8.5   Rainy\n",
      "5 2020-01-06    27.000000         8.5   Sunny\n",
      "6 2020-01-07    27.833333        11.0   Windy\n",
      "7 2020-01-08    27.833333        16.0   Windy\n",
      "8 2020-01-09    26.000000         8.5   Windy\n"
     ]
    }
   ],
   "source": [
    "### Specify some columns to fill the missing parts by value assigned.\n",
    "df_specify = df_new.fillna({'temperature': 10,\n",
    "                            'wind speed': 6,\n",
    "                            'event': 'Sunny'\n",
    "    \n",
    "})\n",
    "print(df_specify)\n",
    "\n",
    "#Fill by the mean value to the missing parts in specific column.\n",
    "df_specify2 = df_new.fillna({'temperature': np.mean(df_new.temperature),\n",
    "                              'wind speed': np.mean(df_new['wind speed']),\n",
    "                              'event': 'Windy'\n",
    "    \n",
    "})\n",
    "print(df_specify2)"
   ]
  },
  {
   "cell_type": "markdown",
   "metadata": {},
   "source": [
    "# interpolate"
   ]
  },
  {
   "cell_type": "code",
   "execution_count": 62,
   "metadata": {},
   "outputs": [
    {
     "name": "stdout",
     "output_type": "stream",
     "text": [
      "            temperature  wind speed   event\n",
      "Date                                       \n",
      "2020-01-01    32.000000    6.000000   Sunny\n",
      "2020-01-02    25.000000    7.000000   Windy\n",
      "2020-01-03    28.000000    2.000000  Cloudy\n",
      "2020-01-04    28.500000    9.000000     NaN\n",
      "2020-01-05    29.000000    9.666667   Rainy\n",
      "2020-01-06    27.000000   10.333333   Sunny\n",
      "2020-01-07    26.666667   11.000000   Windy\n",
      "2020-01-08    26.333333   16.000000     NaN\n",
      "2020-01-09    26.000000   16.000000   Windy\n",
      "            temperature  wind speed   event\n",
      "Date                                       \n",
      "2020-01-01    32.000000    6.000000   Sunny\n",
      "2020-01-02    25.000000    7.000000   Windy\n",
      "2020-01-03    28.000000    2.000000  Cloudy\n",
      "2020-01-04    28.500000    9.000000     NaN\n",
      "2020-01-05    29.000000    9.666667   Rainy\n",
      "2020-01-06    27.000000   10.333333   Sunny\n",
      "2020-01-07    26.666667   11.000000   Windy\n",
      "2020-01-08    26.333333   16.000000     NaN\n",
      "2020-01-09    26.000000   16.000000   Windy\n"
     ]
    }
   ],
   "source": [
    "#Interpolate the missing data following time stamps.\n",
    "#Can only work on data with datetime index and our data has datetime form but not yet index\n",
    "#Setting datetime index\n",
    "df_new2 = df_new.set_index('Date')\n",
    "df_interpolate = df_new2.interpolate(method = 'time')\n",
    "print(df_interpolate)\n",
    "#The missing value will be interpolated by the value more close to itself in a day, rather than by linearly interpolated value.\n",
    "#This is useful when the time stamps are not consecutive where the over-/under-estimation can eithe/both happen.\n",
    "#Not applied to Categorical values.\n",
    "\n",
    "print('----------------------------------------')\n",
    "\n",
    "#Interpolate linearly\n",
    "df_linear_interpo = df_new2.interpolate(method = 'linear')\n",
    "print(df_linear_interpo)\n",
    "# No difference from time interpolate cuz the time stamps are consecutive."
   ]
  },
  {
   "cell_type": "markdown",
   "metadata": {},
   "source": [
    "# replace na"
   ]
  },
  {
   "cell_type": "code",
   "execution_count": 79,
   "metadata": {},
   "outputs": [
    {
     "name": "stdout",
     "output_type": "stream",
     "text": [
      "        Date  temperature  wind speed   event\n",
      "0 2020-01-01         32.0         6.0   Sunny\n",
      "1 2020-01-02         25.0         7.0   Windy\n",
      "2 2020-01-03         28.0         2.0  Cloudy\n",
      "3 2020-01-04          0.0         9.0       0\n",
      "4 2020-01-05         29.0         0.0   Rainy\n",
      "5 2020-01-06         27.0         0.0   Sunny\n",
      "6 2020-01-07          0.0        11.0   Windy\n",
      "7 2020-01-08          0.0        16.0       0\n",
      "8 2020-01-09         26.0         0.0   Windy\n",
      "        Date  temperature  wind speed   event\n",
      "0 2020-01-01         32.0         6.0   Sunny\n",
      "1 2020-01-02         25.0         7.0   Windy\n",
      "2 2020-01-03         28.0         2.0  Cloudy\n",
      "3 2020-01-04          NaN         NaN     NaN\n",
      "4 2020-01-05         29.0         NaN   Rainy\n",
      "5 2020-01-06         27.0         NaN   Sunny\n",
      "6 2020-01-07          NaN        11.0   Windy\n",
      "7 2020-01-08          NaN        16.0     NaN\n",
      "8 2020-01-09         26.0         NaN   Windy\n"
     ]
    }
   ],
   "source": [
    "#Replace one value by another (in this case, by 0)\n",
    "df_replace = df_new.replace(np.NaN, 0)\n",
    "print(df_replace)\n",
    "\n",
    "#Replace many (more than one) value across different columns that represent missing value with NaN.\n",
    "df_replace2 = df_new.replace({'temperature': 0,\n",
    "                             'wind speed' : 9}, np.NaN)\n",
    "print(df_replace2)"
   ]
  },
  {
   "cell_type": "code",
   "execution_count": 82,
   "metadata": {},
   "outputs": [
    {
     "name": "stdout",
     "output_type": "stream",
     "text": [
      "        Date  temperature  wind speed  event\n",
      "0 2020-01-01         32.0         6.0    1.0\n",
      "1 2020-01-02         25.0         7.0    2.0\n",
      "2 2020-01-03         28.0         2.0    4.0\n",
      "3 2020-01-04          NaN         9.0    NaN\n",
      "4 2020-01-05         29.0         NaN    3.0\n",
      "5 2020-01-06         27.0         NaN    1.0\n",
      "6 2020-01-07          NaN        11.0    2.0\n",
      "7 2020-01-08          NaN        16.0    NaN\n",
      "8 2020-01-09         26.0         NaN    2.0\n"
     ]
    }
   ],
   "source": [
    "#Replace the categorical labels by corresponding numbers.\n",
    "df_replace_name = df_new.replace(['Sunny', 'Windy', 'Rainy', 'Cloudy'], [1, 2, 3, 4])\n",
    "print(df_replace_name)"
   ]
  },
  {
   "cell_type": "code",
   "execution_count": null,
   "metadata": {},
   "outputs": [],
   "source": []
  },
  {
   "cell_type": "code",
   "execution_count": 40,
   "metadata": {},
   "outputs": [
    {
     "name": "stdout",
     "output_type": "stream",
     "text": [
      "Windy     3\n",
      "Sunny     2\n",
      "Rainy     1\n",
      "Cloudy    1\n",
      "Name: event, dtype: int64\n",
      "27.833333333333332\n",
      "        Date  temperature  wind speed   event\n",
      "0 2020-01-01         32.0         6.0   Sunny\n",
      "1 2020-01-02         25.0         7.0   Windy\n",
      "2 2020-01-03         28.0         2.0  Cloudy\n",
      "3 2020-01-04          NaN         9.0     NaN\n",
      "4 2020-01-05         29.0         NaN   Rainy\n",
      "5 2020-01-06         27.0         NaN   Sunny\n",
      "6 2020-01-07          NaN        11.0   Windy\n",
      "7 2020-01-08          NaN        16.0     NaN\n",
      "8 2020-01-09         26.0         NaN   Windy\n"
     ]
    }
   ],
   "source": [
    "print(df_new['event'].value_counts()) #Check frequency of class labels.\n",
    "print(np.mean(df_new['temperature']))\n",
    "print(df_new)"
   ]
  },
  {
   "cell_type": "code",
   "execution_count": 84,
   "metadata": {},
   "outputs": [
    {
     "name": "stdout",
     "output_type": "stream",
     "text": [
      "4\n",
      "0   2020-01-01\n",
      "1   2020-01-02\n",
      "2   2020-01-03\n",
      "3   2020-01-04\n",
      "4   2020-01-05\n",
      "5   2020-01-06\n",
      "6   2020-01-07\n",
      "7   2020-01-08\n",
      "8   2020-01-09\n",
      "Name: Date, dtype: datetime64[ns]\n",
      "2020-01-02 00:00:00\n"
     ]
    }
   ],
   "source": [
    "df_new.columns[0]\n",
    "print(len(df_new.columns))\n",
    "print(df_new[df_new.columns[0]]) #.index.values[1])\n",
    "print(df_new.iloc[1, 0])\n"
   ]
  },
  {
   "cell_type": "code",
   "execution_count": 75,
   "metadata": {},
   "outputs": [
    {
     "data": {
      "text/plain": [
       "False"
      ]
     },
     "execution_count": 75,
     "metadata": {},
     "output_type": "execute_result"
    }
   ],
   "source": [
    "df_new.iloc[3, 1] == 'nan'"
   ]
  },
  {
   "cell_type": "code",
   "execution_count": null,
   "metadata": {},
   "outputs": [],
   "source": []
  }
 ],
 "metadata": {
  "kernelspec": {
   "display_name": "Python 3",
   "language": "python",
   "name": "python3"
  },
  "language_info": {
   "codemirror_mode": {
    "name": "ipython",
    "version": 3
   },
   "file_extension": ".py",
   "mimetype": "text/x-python",
   "name": "python",
   "nbconvert_exporter": "python",
   "pygments_lexer": "ipython3",
   "version": "3.7.6"
  }
 },
 "nbformat": 4,
 "nbformat_minor": 4
}
